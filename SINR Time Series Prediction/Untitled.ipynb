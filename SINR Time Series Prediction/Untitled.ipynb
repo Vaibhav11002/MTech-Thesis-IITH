{
 "cells": [
  {
   "cell_type": "code",
   "execution_count": 19,
   "id": "4ec24013",
   "metadata": {},
   "outputs": [],
   "source": [
    "import BSgeneration\n",
    "import GetUsers\n",
    "import UserMobility\n",
    "import PathLossCalc, CorrelatedShadowing, DirectivityGain\n",
    "import ChannelGainCalculation, SINRCalculation"
   ]
  },
  {
   "cell_type": "code",
   "execution_count": 20,
   "id": "bd6e794f",
   "metadata": {},
   "outputs": [],
   "source": [
    "radius = 500"
   ]
  },
  {
   "cell_type": "code",
   "execution_count": 21,
   "id": "88e0c039",
   "metadata": {},
   "outputs": [],
   "source": [
    "bsgen = BSgeneration.BSGenerate(radius)"
   ]
  },
  {
   "cell_type": "code",
   "execution_count": 22,
   "id": "0431807c",
   "metadata": {},
   "outputs": [
    {
     "ename": "TypeError",
     "evalue": "'NoneType' object is not iterable",
     "output_type": "error",
     "traceback": [
      "\u001b[0;31m---------------------------------------------------------------------------\u001b[0m",
      "\u001b[0;31mTypeError\u001b[0m                                 Traceback (most recent call last)",
      "\u001b[0;32m<ipython-input-22-455c39ba06f6>\u001b[0m in \u001b[0;36m<module>\u001b[0;34m\u001b[0m\n\u001b[0;32m----> 1\u001b[0;31m \u001b[0mX\u001b[0m\u001b[0;34m,\u001b[0m \u001b[0mY\u001b[0m \u001b[0;34m=\u001b[0m \u001b[0mbsgen\u001b[0m\u001b[0;34m.\u001b[0m\u001b[0mtier1cellgen\u001b[0m\u001b[0;34m(\u001b[0m\u001b[0;34m)\u001b[0m\u001b[0;34m\u001b[0m\u001b[0;34m\u001b[0m\u001b[0m\n\u001b[0m",
      "\u001b[0;32m~/MTech-Thesis-IITH/SINR Time Series Prediction/BSgeneration.py\u001b[0m in \u001b[0;36mtier1cellgen\u001b[0;34m(self)\u001b[0m\n\u001b[1;32m    111\u001b[0m         \u001b[0;31m# 2nd cell\u001b[0m\u001b[0;34m\u001b[0m\u001b[0;34m\u001b[0m\u001b[0;34m\u001b[0m\u001b[0m\n\u001b[1;32m    112\u001b[0m         \u001b[0misd\u001b[0m \u001b[0;34m=\u001b[0m \u001b[0mmath\u001b[0m\u001b[0;34m.\u001b[0m\u001b[0msqrt\u001b[0m\u001b[0;34m(\u001b[0m\u001b[0;36m3\u001b[0m\u001b[0;34m)\u001b[0m\u001b[0;34m*\u001b[0m\u001b[0mself\u001b[0m\u001b[0;34m.\u001b[0m\u001b[0mradius\u001b[0m\u001b[0;34m\u001b[0m\u001b[0;34m\u001b[0m\u001b[0m\n\u001b[0;32m--> 113\u001b[0;31m         \u001b[0mBS2x\u001b[0m \u001b[0;34m=\u001b[0m \u001b[0;34m[\u001b[0m\u001b[0mx\u001b[0m \u001b[0;34m+\u001b[0m \u001b[0;34m(\u001b[0m\u001b[0;34m-\u001b[0m\u001b[0;36m3\u001b[0m\u001b[0;34m*\u001b[0m\u001b[0mself\u001b[0m\u001b[0;34m.\u001b[0m\u001b[0mradius\u001b[0m\u001b[0;34m)\u001b[0m \u001b[0;32mfor\u001b[0m \u001b[0mx\u001b[0m \u001b[0;32min\u001b[0m \u001b[0mself\u001b[0m\u001b[0;34m.\u001b[0m\u001b[0mBS_location_x\u001b[0m\u001b[0;34m]\u001b[0m\u001b[0;34m\u001b[0m\u001b[0;34m\u001b[0m\u001b[0m\n\u001b[0m\u001b[1;32m    114\u001b[0m         \u001b[0mBS2y\u001b[0m \u001b[0;34m=\u001b[0m \u001b[0;34m[\u001b[0m\u001b[0my\u001b[0m \u001b[0;34m+\u001b[0m \u001b[0;34m(\u001b[0m\u001b[0;36m2\u001b[0m\u001b[0;34m*\u001b[0m\u001b[0misd\u001b[0m\u001b[0;34m)\u001b[0m \u001b[0;32mfor\u001b[0m \u001b[0my\u001b[0m \u001b[0;32min\u001b[0m \u001b[0mself\u001b[0m\u001b[0;34m.\u001b[0m\u001b[0mBS_location_y\u001b[0m\u001b[0;34m]\u001b[0m\u001b[0;34m\u001b[0m\u001b[0;34m\u001b[0m\u001b[0m\n\u001b[1;32m    115\u001b[0m \u001b[0;34m\u001b[0m\u001b[0m\n",
      "\u001b[0;31mTypeError\u001b[0m: 'NoneType' object is not iterable"
     ]
    }
   ],
   "source": [
    "X, Y = bsgen.tier1cellgen()"
   ]
  },
  {
   "cell_type": "code",
   "execution_count": 23,
   "id": "537cc326",
   "metadata": {},
   "outputs": [
    {
     "ename": "NameError",
     "evalue": "name 'X' is not defined",
     "output_type": "error",
     "traceback": [
      "\u001b[0;31m---------------------------------------------------------------------------\u001b[0m",
      "\u001b[0;31mNameError\u001b[0m                                 Traceback (most recent call last)",
      "\u001b[0;32m<ipython-input-23-b5fec669aca1>\u001b[0m in \u001b[0;36m<module>\u001b[0;34m\u001b[0m\n\u001b[0;32m----> 1\u001b[0;31m \u001b[0mX\u001b[0m\u001b[0;34m\u001b[0m\u001b[0;34m\u001b[0m\u001b[0m\n\u001b[0m",
      "\u001b[0;31mNameError\u001b[0m: name 'X' is not defined"
     ]
    }
   ],
   "source": [
    "X"
   ]
  },
  {
   "cell_type": "code",
   "execution_count": 14,
   "id": "bf87f7b7",
   "metadata": {},
   "outputs": [
    {
     "ename": "TypeError",
     "evalue": "'NoneType' object is not iterable",
     "output_type": "error",
     "traceback": [
      "\u001b[0;31m---------------------------------------------------------------------------\u001b[0m",
      "\u001b[0;31mTypeError\u001b[0m                                 Traceback (most recent call last)",
      "\u001b[0;32m<ipython-input-14-d503e81bafdc>\u001b[0m in \u001b[0;36m<module>\u001b[0;34m\u001b[0m\n\u001b[0;32m----> 1\u001b[0;31m \u001b[0mBS_wrap_around_total3x\u001b[0m\u001b[0;34m,\u001b[0m \u001b[0mBS_wrap_around_total3y\u001b[0m \u001b[0;34m=\u001b[0m \u001b[0mbsgen\u001b[0m\u001b[0;34m.\u001b[0m\u001b[0mWrapAround\u001b[0m\u001b[0;34m(\u001b[0m\u001b[0;34m)\u001b[0m\u001b[0;34m\u001b[0m\u001b[0;34m\u001b[0m\u001b[0m\n\u001b[0m",
      "\u001b[0;32m~/MTech-Thesis-IITH/SINR Time Series Prediction/BSgeneration.py\u001b[0m in \u001b[0;36mWrapAround\u001b[0;34m(self)\u001b[0m\n\u001b[1;32m    142\u001b[0m     \u001b[0;32mdef\u001b[0m \u001b[0mWrapAround\u001b[0m\u001b[0;34m(\u001b[0m\u001b[0mself\u001b[0m\u001b[0;34m)\u001b[0m\u001b[0;34m:\u001b[0m\u001b[0;34m\u001b[0m\u001b[0;34m\u001b[0m\u001b[0m\n\u001b[1;32m    143\u001b[0m \u001b[0;34m\u001b[0m\u001b[0m\n\u001b[0;32m--> 144\u001b[0;31m         \u001b[0mBS_wrap_around_x\u001b[0m \u001b[0;34m=\u001b[0m \u001b[0msum\u001b[0m\u001b[0;34m(\u001b[0m\u001b[0mself\u001b[0m\u001b[0;34m.\u001b[0m\u001b[0mBS_total_x\u001b[0m\u001b[0;34m,\u001b[0m \u001b[0;34m[\u001b[0m\u001b[0;34m]\u001b[0m\u001b[0;34m)\u001b[0m\u001b[0;34m\u001b[0m\u001b[0;34m\u001b[0m\u001b[0m\n\u001b[0m\u001b[1;32m    145\u001b[0m         \u001b[0mBS_wrap_around_y\u001b[0m \u001b[0;34m=\u001b[0m \u001b[0msum\u001b[0m\u001b[0;34m(\u001b[0m\u001b[0mself\u001b[0m\u001b[0;34m.\u001b[0m\u001b[0mBS_total_y\u001b[0m\u001b[0;34m,\u001b[0m \u001b[0;34m[\u001b[0m\u001b[0;34m]\u001b[0m\u001b[0;34m)\u001b[0m\u001b[0;34m\u001b[0m\u001b[0;34m\u001b[0m\u001b[0m\n\u001b[1;32m    146\u001b[0m \u001b[0;34m\u001b[0m\u001b[0m\n",
      "\u001b[0;31mTypeError\u001b[0m: 'NoneType' object is not iterable"
     ]
    }
   ],
   "source": [
    "BS_wrap_around_total3x, BS_wrap_around_total3y = bsgen.WrapAround()"
   ]
  },
  {
   "cell_type": "code",
   "execution_count": null,
   "id": "a0fc8283",
   "metadata": {},
   "outputs": [],
   "source": []
  },
  {
   "cell_type": "code",
   "execution_count": null,
   "id": "f7951d3f",
   "metadata": {},
   "outputs": [],
   "source": [
    "def SINRsimulation(each_sec, Time_instants, v_min, v_max, std_dev):  #nums = total no.of simulations, each_sec = no. of users in each sector\n",
    "    \n",
    "    num_users, x, y = GetUsers.GetSecusers(each_sec)  #<----- each_sec amount of users in each sector for 1 iteration\n",
    "    #PlotSecUsers(num_users, x, y)\n",
    "\n",
    "    x_mobile, y_mobile, users_velocity = UserMobility.User_Mobility(num_users, x, y, v_min, v_max, Time_instants) #time_instants x total_users\n",
    "\n",
    "    #doing calculations only for the centre cell\n",
    "    num_users = each_sec*3\n",
    "    x_mobile = x_mobile[:, :num_users]\n",
    "    y_mobile = y_mobile[:, :num_users]\n",
    "\n",
    "    dist2d, dist3d = PathLossCalc.getdist(num_users, x_mobile, y_mobile, Time_instants, BS_wrap_around_total3x, BS_wrap_around_total3y)\n",
    "\n",
    "    path_loss_wrap = PathLossCalc.PathLoss(dist2d, dist3d, num_users) #this path loss considers 3 base station in each hex cell\n",
    "\n",
    "\n",
    "    #shadowing = LogNormShadow(path_loss_wrap)\n",
    "    #print(shadowing)\n",
    "\n",
    "    #shadowing = getshadloss(x_mobile, y_mobile)\n",
    "\n",
    "    shadowing = correlated_shadowing(x_mobile, y_mobile, std_dev)\n",
    "    #shadowing = np.zeros(np.shape(path_loss_wrap))\n",
    "\n",
    "    #print(shadowing)\n",
    "\n",
    "    angles_users = UserAngle(x_mobile, y_mobile, BS_wrap_around_total3x, BS_wrap_around_total3y)\n",
    "\n",
    "    #channel_gain_linear = ChannelGainCalculation(path_loss_wrap, shadowing, angles_users)\n",
    "    channel_gain_linear = ChannelGainCalculation(path_loss_wrap, shadowing, angles_users)\n",
    "\n",
    "    channel_gain_dB = 10*np.log10(channel_gain_linear)\n",
    "    #print(channel_gain_dB)\n",
    "    #print(np.shape(channel_gain_linear))\n",
    "\n",
    "    Sinr_dB, sp, interf = SINR_b4(channel_gain_linear)      # time_steps x 21 x 210            \n",
    "\n",
    "\n",
    "    plt.show()\n",
    "\n",
    "\n",
    "    return Sinr_dB, x_mobile, y_mobile, shadowing, channel_gain_dB, sp, interf"
   ]
  },
  {
   "cell_type": "code",
   "execution_count": null,
   "id": "f0230348",
   "metadata": {},
   "outputs": [],
   "source": []
  },
  {
   "cell_type": "code",
   "execution_count": null,
   "id": "697bfd13",
   "metadata": {},
   "outputs": [],
   "source": []
  }
 ],
 "metadata": {
  "kernelspec": {
   "display_name": "Python 3",
   "language": "python",
   "name": "python3"
  },
  "language_info": {
   "codemirror_mode": {
    "name": "ipython",
    "version": 3
   },
   "file_extension": ".py",
   "mimetype": "text/x-python",
   "name": "python",
   "nbconvert_exporter": "python",
   "pygments_lexer": "ipython3",
   "version": "3.8.10"
  }
 },
 "nbformat": 4,
 "nbformat_minor": 5
}

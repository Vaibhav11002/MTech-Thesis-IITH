{
 "cells": [
  {
   "cell_type": "code",
   "execution_count": 37,
   "id": "c41a8ca1",
   "metadata": {},
   "outputs": [],
   "source": [
    "import numpy as np\n",
    "import matplotlib.pyplot as plt\n",
    "import math\n",
    "import random\n",
    "\n",
    "import numpy as np\n",
    "import matplotlib.pyplot as plt\n",
    "import pandas as pd\n",
    "import tensorflow as tf\n",
    "from sklearn.preprocessing import MinMaxScaler\n",
    "from matplotlib.pyplot import figure \n",
    "\n",
    "keras = tf.keras\n",
    "\n",
    "from sklearn.metrics import mean_squared_error, mean_absolute_error"
   ]
  },
  {
   "cell_type": "code",
   "execution_count": 38,
   "id": "4b1f2d83",
   "metadata": {},
   "outputs": [],
   "source": [
    "#import tensorflow.compat.v1 as tf\n",
    "#tf.disable_v2_behavior()\n",
    "tf.compat.v1.disable_eager_execution()"
   ]
  },
  {
   "cell_type": "code",
   "execution_count": 39,
   "id": "23bfc046",
   "metadata": {},
   "outputs": [],
   "source": [
    "import pylab as pl\n",
    "from tfkalman import filters"
   ]
  },
  {
   "cell_type": "code",
   "execution_count": 40,
   "id": "21e4cf7a",
   "metadata": {},
   "outputs": [
    {
     "data": {
      "text/plain": [
       "<module 'tfkalman.filters' from '/home/vaibhav/MTech-Thesis-IITH/SINR Time Series Prediction/tfkalman/filters.py'>"
      ]
     },
     "execution_count": 40,
     "metadata": {},
     "output_type": "execute_result"
    }
   ],
   "source": [
    "filters"
   ]
  },
  {
   "cell_type": "code",
   "execution_count": 41,
   "id": "7aacd08f",
   "metadata": {},
   "outputs": [],
   "source": [
    "rnd = np.random.RandomState(0)"
   ]
  },
  {
   "cell_type": "code",
   "execution_count": 42,
   "id": "71f6df2e",
   "metadata": {},
   "outputs": [
    {
     "data": {
      "text/plain": [
       "RandomState(MT19937) at 0x7FADD5BF6840"
      ]
     },
     "execution_count": 42,
     "metadata": {},
     "output_type": "execute_result"
    }
   ],
   "source": [
    "rnd"
   ]
  },
  {
   "cell_type": "code",
   "execution_count": 43,
   "id": "f7a0937c",
   "metadata": {},
   "outputs": [],
   "source": [
    "# X : State at step k - 1 (apriori) [n]\n",
    "# P : state error covariance at step k - 1 (apriori) [n, n]\n",
    "# A : transition matrix [n, n]\n",
    "# Q : The process noise covariance matrix.\n",
    "# B : The input effect matrix.\n",
    "# U : The control input.\n",
    "\n",
    "class KalmanFilter(object):\n",
    "\n",
    "    def __init__(self, x=None, A=None, P=None, B=None, H=None, Q=None):\n",
    "        \"\"\"Initialize a filter\n",
    "\n",
    "        Parameters\n",
    "        ----------\n",
    "        m : int - measurement size\n",
    "        n : int - state size\n",
    "        l : int - control input size\n",
    "        x : float32 [n, 1]  - initial state\n",
    "        A : float32 [n, n] -  state transition matrix\n",
    "        Q : float32 [n, n] -  process noise covariance\n",
    "        u : float32 [l, 1] -  control input\n",
    "        B : float32 [n, l] -  control input transition matrix\n",
    "        z : float32 [m, 1] -  measurement\n",
    "        R : float32 [m, m] -  measurement noise covariance\n",
    "        H : float32 [m, n] -  measurement transition matrix\n",
    "        \"\"\"\n",
    "\n",
    "        m = self._m = H.shape[0]\n",
    "        n = self._n = x.shape[0]\n",
    "        l = self._l = B.shape[1]\n",
    "        self._x = tf.Variable(x, dtype=tf.float32, name=\"x\")\n",
    "        self._A = tf.constant(A, dtype=tf.float32, name=\"A\")\n",
    "        self._P = tf.Variable(P, dtype=tf.float32, name=\"P\")\n",
    "        self._B = tf.constant(B, dtype=tf.float32, name=\"B\")\n",
    "        self._Q = tf.constant(Q, dtype=tf.float32, name=\"Q\")\n",
    "        self._H = tf.constant(H, dtype=tf.float32, name=\"H\")\n",
    "\n",
    "        self._u = tf.compat.v1.placeholder(dtype=tf.float32, shape=[l, 1], name=\"u\")\n",
    "        self._z = tf.compat.v1.placeholder(dtype=tf.float32, shape=[m, 1], name=\"z\")\n",
    "        self._R = tf.Variable(dtype=tf.float32, shape=[m, m], name=\"R\")\n",
    "\n",
    "\n",
    "    # returns\n",
    "    # X = a priori projected state at step k\n",
    "    # P = projected error covariance at step k\n",
    "    def predict(self):\n",
    "        x = self._x\n",
    "        A = self._A\n",
    "        P = self._P\n",
    "        B = self._B\n",
    "        Q = self._Q\n",
    "        u = self._u\n",
    "        x_pred = x.assign(tf.matmul(A, x) + tf.matmul(B, u))\n",
    "        p_pred = P.assign(tf.matmul(A, tf.matmul(P, A, transpose_b=True)) + Q)\n",
    "        return x_pred, p_pred\n",
    "\n",
    "    def correct(self):\n",
    "        x = self._x\n",
    "        P = self._P\n",
    "        H = self._H\n",
    "        z = self._z\n",
    "        R = self._R\n",
    "        K = tf.matmul(P, tf.matmul(tf.transpose(H), tf.linalg.inv(tf.matmul(H, tf.matmul(P, H, transpose_b=True)) + R)))\n",
    "        x_corr = x.assign(x + tf.matmul(K, z - tf.matmul(H, x)))\n",
    "        P_corr = P.assign(tf.matmul((1 - tf.matmul(K, H)), P))\n",
    "        return K, x_corr, P_corr\n",
    "\n",
    "    @property\n",
    "    def x(self):\n",
    "        return self._x\n",
    "\n",
    "    @property\n",
    "    def A(self):\n",
    "        return self._A\n",
    "\n",
    "    @property\n",
    "    def P(self):\n",
    "        return self._P\n",
    "\n",
    "    @property\n",
    "    def Q(self):\n",
    "        return self._Q\n",
    "\n",
    "    @property\n",
    "    def B(self):\n",
    "        return self._B\n",
    "\n",
    "    @property\n",
    "    def u(self):\n",
    "        return self._u\n",
    "\n",
    "    @property\n",
    "    def H(self):\n",
    "        return self._H\n",
    "\n",
    "    @property\n",
    "    def R(self):\n",
    "        return self._R\n",
    "\n",
    "    @property\n",
    "    def z(self):\n",
    "        return self._z\n"
   ]
  },
  {
   "cell_type": "code",
   "execution_count": 44,
   "id": "22a8c551",
   "metadata": {},
   "outputs": [],
   "source": [
    "n = 1\n",
    "m = 1\n",
    "l = 1\n",
    "x = np.ones([1, 1])\n",
    "\n",
    "A = np.ones([1, 1])\n",
    "\n",
    "B = np.zeros([1, 1])\n",
    "\n",
    "P = np.ones([1, 1])\n",
    "\n",
    "Q = np.array([[0.005]])\n",
    "\n",
    "H = np.ones([1, 1])\n",
    "\n",
    "u = np.zeros([1, 1])\n",
    "\n",
    "R = np.array([[0.1]])\n"
   ]
  },
  {
   "cell_type": "code",
   "execution_count": 45,
   "id": "5d5469ab",
   "metadata": {},
   "outputs": [
    {
     "data": {
      "text/plain": [
       "'2.5.0'"
      ]
     },
     "execution_count": 45,
     "metadata": {},
     "output_type": "execute_result"
    }
   ],
   "source": [
    "tf.__version__"
   ]
  },
  {
   "cell_type": "code",
   "execution_count": 47,
   "id": "e3e5d919",
   "metadata": {},
   "outputs": [
    {
     "ename": "AttributeError",
     "evalue": "module 'tensorflow' has no attribute 'matrix_inverse'",
     "output_type": "error",
     "traceback": [
      "\u001b[0;31m---------------------------------------------------------------------------\u001b[0m",
      "\u001b[0;31mAttributeError\u001b[0m                            Traceback (most recent call last)",
      "\u001b[0;32m<ipython-input-47-fc9d8e2ff296>\u001b[0m in \u001b[0;36m<module>\u001b[0;34m\u001b[0m\n\u001b[1;32m      3\u001b[0m     \u001b[0mkf\u001b[0m \u001b[0;34m=\u001b[0m \u001b[0mKalmanFilter\u001b[0m\u001b[0;34m(\u001b[0m\u001b[0mx\u001b[0m\u001b[0;34m=\u001b[0m\u001b[0mx\u001b[0m\u001b[0;34m,\u001b[0m \u001b[0mA\u001b[0m\u001b[0;34m=\u001b[0m\u001b[0mA\u001b[0m\u001b[0;34m,\u001b[0m \u001b[0mB\u001b[0m\u001b[0;34m=\u001b[0m\u001b[0mB\u001b[0m\u001b[0;34m,\u001b[0m \u001b[0mP\u001b[0m\u001b[0;34m=\u001b[0m\u001b[0mP\u001b[0m\u001b[0;34m,\u001b[0m \u001b[0mQ\u001b[0m\u001b[0;34m=\u001b[0m\u001b[0mQ\u001b[0m\u001b[0;34m,\u001b[0m \u001b[0mH\u001b[0m\u001b[0;34m=\u001b[0m\u001b[0mH\u001b[0m\u001b[0;34m)\u001b[0m\u001b[0;34m\u001b[0m\u001b[0;34m\u001b[0m\u001b[0m\n\u001b[1;32m      4\u001b[0m     \u001b[0mpredict\u001b[0m \u001b[0;34m=\u001b[0m \u001b[0mkf\u001b[0m\u001b[0;34m.\u001b[0m\u001b[0mpredict\u001b[0m\u001b[0;34m(\u001b[0m\u001b[0;34m)\u001b[0m\u001b[0;34m\u001b[0m\u001b[0;34m\u001b[0m\u001b[0m\n\u001b[0;32m----> 5\u001b[0;31m     \u001b[0mcorrect\u001b[0m \u001b[0;34m=\u001b[0m \u001b[0mkf\u001b[0m\u001b[0;34m.\u001b[0m\u001b[0mcorrect\u001b[0m\u001b[0;34m(\u001b[0m\u001b[0;34m)\u001b[0m\u001b[0;34m\u001b[0m\u001b[0;34m\u001b[0m\u001b[0m\n\u001b[0m\u001b[1;32m      6\u001b[0m     \u001b[0mtf\u001b[0m\u001b[0;34m.\u001b[0m\u001b[0mglobal_variables_initializer\u001b[0m\u001b[0;34m(\u001b[0m\u001b[0;34m)\u001b[0m\u001b[0;34m.\u001b[0m\u001b[0mrun\u001b[0m\u001b[0;34m(\u001b[0m\u001b[0;34m)\u001b[0m\u001b[0;34m\u001b[0m\u001b[0;34m\u001b[0m\u001b[0m\n\u001b[1;32m      7\u001b[0m     \u001b[0;32mfor\u001b[0m \u001b[0mi\u001b[0m \u001b[0;32min\u001b[0m \u001b[0mrange\u001b[0m\u001b[0;34m(\u001b[0m\u001b[0;36m0\u001b[0m\u001b[0;34m,\u001b[0m \u001b[0mn_timesteps\u001b[0m\u001b[0;34m)\u001b[0m\u001b[0;34m:\u001b[0m\u001b[0;34m\u001b[0m\u001b[0;34m\u001b[0m\u001b[0m\n",
      "\u001b[0;32m<ipython-input-43-e589b3104848>\u001b[0m in \u001b[0;36mcorrect\u001b[0;34m(self)\u001b[0m\n\u001b[1;32m     61\u001b[0m         \u001b[0mz\u001b[0m \u001b[0;34m=\u001b[0m \u001b[0mself\u001b[0m\u001b[0;34m.\u001b[0m\u001b[0m_z\u001b[0m\u001b[0;34m\u001b[0m\u001b[0;34m\u001b[0m\u001b[0m\n\u001b[1;32m     62\u001b[0m         \u001b[0mR\u001b[0m \u001b[0;34m=\u001b[0m \u001b[0mself\u001b[0m\u001b[0;34m.\u001b[0m\u001b[0m_R\u001b[0m\u001b[0;34m\u001b[0m\u001b[0;34m\u001b[0m\u001b[0m\n\u001b[0;32m---> 63\u001b[0;31m         \u001b[0mK\u001b[0m \u001b[0;34m=\u001b[0m \u001b[0mtf\u001b[0m\u001b[0;34m.\u001b[0m\u001b[0mmatmul\u001b[0m\u001b[0;34m(\u001b[0m\u001b[0mP\u001b[0m\u001b[0;34m,\u001b[0m \u001b[0mtf\u001b[0m\u001b[0;34m.\u001b[0m\u001b[0mmatmul\u001b[0m\u001b[0;34m(\u001b[0m\u001b[0mtf\u001b[0m\u001b[0;34m.\u001b[0m\u001b[0mtranspose\u001b[0m\u001b[0;34m(\u001b[0m\u001b[0mH\u001b[0m\u001b[0;34m)\u001b[0m\u001b[0;34m,\u001b[0m \u001b[0mtf\u001b[0m\u001b[0;34m.\u001b[0m\u001b[0mmatrix_inverse\u001b[0m\u001b[0;34m(\u001b[0m\u001b[0mtf\u001b[0m\u001b[0;34m.\u001b[0m\u001b[0mmatmul\u001b[0m\u001b[0;34m(\u001b[0m\u001b[0mH\u001b[0m\u001b[0;34m,\u001b[0m \u001b[0mtf\u001b[0m\u001b[0;34m.\u001b[0m\u001b[0mmatmul\u001b[0m\u001b[0;34m(\u001b[0m\u001b[0mP\u001b[0m\u001b[0;34m,\u001b[0m \u001b[0mH\u001b[0m\u001b[0;34m,\u001b[0m \u001b[0mtranspose_b\u001b[0m\u001b[0;34m=\u001b[0m\u001b[0;32mTrue\u001b[0m\u001b[0;34m)\u001b[0m\u001b[0;34m)\u001b[0m \u001b[0;34m+\u001b[0m \u001b[0mR\u001b[0m\u001b[0;34m)\u001b[0m\u001b[0;34m)\u001b[0m\u001b[0;34m)\u001b[0m\u001b[0;34m\u001b[0m\u001b[0;34m\u001b[0m\u001b[0m\n\u001b[0m\u001b[1;32m     64\u001b[0m         \u001b[0mx_corr\u001b[0m \u001b[0;34m=\u001b[0m \u001b[0mx\u001b[0m\u001b[0;34m.\u001b[0m\u001b[0massign\u001b[0m\u001b[0;34m(\u001b[0m\u001b[0mx\u001b[0m \u001b[0;34m+\u001b[0m \u001b[0mtf\u001b[0m\u001b[0;34m.\u001b[0m\u001b[0mmatmul\u001b[0m\u001b[0;34m(\u001b[0m\u001b[0mK\u001b[0m\u001b[0;34m,\u001b[0m \u001b[0mz\u001b[0m \u001b[0;34m-\u001b[0m \u001b[0mtf\u001b[0m\u001b[0;34m.\u001b[0m\u001b[0mmatmul\u001b[0m\u001b[0;34m(\u001b[0m\u001b[0mH\u001b[0m\u001b[0;34m,\u001b[0m \u001b[0mx\u001b[0m\u001b[0;34m)\u001b[0m\u001b[0;34m)\u001b[0m\u001b[0;34m)\u001b[0m\u001b[0;34m\u001b[0m\u001b[0;34m\u001b[0m\u001b[0m\n\u001b[1;32m     65\u001b[0m         \u001b[0mP_corr\u001b[0m \u001b[0;34m=\u001b[0m \u001b[0mP\u001b[0m\u001b[0;34m.\u001b[0m\u001b[0massign\u001b[0m\u001b[0;34m(\u001b[0m\u001b[0mtf\u001b[0m\u001b[0;34m.\u001b[0m\u001b[0mmatmul\u001b[0m\u001b[0;34m(\u001b[0m\u001b[0;34m(\u001b[0m\u001b[0;36m1\u001b[0m \u001b[0;34m-\u001b[0m \u001b[0mtf\u001b[0m\u001b[0;34m.\u001b[0m\u001b[0mmatmul\u001b[0m\u001b[0;34m(\u001b[0m\u001b[0mK\u001b[0m\u001b[0;34m,\u001b[0m \u001b[0mH\u001b[0m\u001b[0;34m)\u001b[0m\u001b[0;34m)\u001b[0m\u001b[0;34m,\u001b[0m \u001b[0mP\u001b[0m\u001b[0;34m)\u001b[0m\u001b[0;34m)\u001b[0m\u001b[0;34m\u001b[0m\u001b[0;34m\u001b[0m\u001b[0m\n",
      "\u001b[0;31mAttributeError\u001b[0m: module 'tensorflow' has no attribute 'matrix_inverse'"
     ]
    }
   ],
   "source": [
    "predictions = []\n",
    "with tf.compat.v1.Session() as sess:\n",
    "    kf = KalmanFilter(x=x, A=A, B=B, P=P, Q=Q, H=H)\n",
    "    predict = kf.predict()\n",
    "    correct = kf.correct()\n",
    "    tf.global_variables_initializer().run()\n",
    "    for i in range(0, n_timesteps):\n",
    "        x_pred, _ = sess.run(predict, feed_dict={kf.u: u})\n",
    "        # print x_pred, p_pred\n",
    "        predictions.append(x_pred[0, 0])\n",
    "        sess.run(correct, feed_dict={kf.z:np.array([[observations[i]]]), kf.R:R})\n"
   ]
  },
  {
   "cell_type": "code",
   "execution_count": null,
   "id": "2f52597f",
   "metadata": {},
   "outputs": [],
   "source": []
  }
 ],
 "metadata": {
  "kernelspec": {
   "display_name": "Python 3",
   "language": "python",
   "name": "python3"
  },
  "language_info": {
   "codemirror_mode": {
    "name": "ipython",
    "version": 3
   },
   "file_extension": ".py",
   "mimetype": "text/x-python",
   "name": "python",
   "nbconvert_exporter": "python",
   "pygments_lexer": "ipython3",
   "version": "3.8.10"
  }
 },
 "nbformat": 4,
 "nbformat_minor": 5
}

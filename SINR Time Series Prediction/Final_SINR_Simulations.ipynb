{
 "cells": [
  {
   "cell_type": "markdown",
   "metadata": {
    "id": "AFMVWKr5OE0H"
   },
   "source": [
    "# **Tier-1 Hexagonal Cell**"
   ]
  },
  {
   "cell_type": "code",
   "execution_count": 1,
   "metadata": {
    "id": "nKkD9nc4LhLg"
   },
   "outputs": [],
   "source": [
    "import numpy as np\n",
    "import matplotlib.pyplot as plt\n",
    "import math\n",
    "import random\n",
    "import time\n",
    "\n",
    "import numpy as np\n",
    "import matplotlib.pyplot as plt\n",
    "import pandas as pd\n",
    "import tensorflow as tf\n",
    "from sklearn.preprocessing import MinMaxScaler\n",
    "\n",
    "keras = tf.keras\n",
    "\n",
    "from sklearn.metrics import mean_absolute_error, mean_absolute_percentage_error, mean_squared_error"
   ]
  },
  {
   "cell_type": "code",
   "execution_count": 2,
   "metadata": {
    "colab": {
     "base_uri": "https://localhost:8080/"
    },
    "id": "fLgI_oBdEKN9",
    "outputId": "dcd19a91-0bc8-45b7-d9d7-700861979903"
   },
   "outputs": [
    {
     "name": "stdout",
     "output_type": "stream",
     "text": [
      "ISD:  866.0254037844386\n"
     ]
    }
   ],
   "source": [
    "radius = 500\n",
    "\n",
    "t = np.linspace(0, 2*math.pi, 7)\n",
    "\n",
    "#center cell\n",
    "x1 = []\n",
    "y1 = []\n",
    "for i in range(len(t)):\n",
    "  x1.append(0 + radius*math.cos(t[i]))\n",
    "  y1.append(0 + radius*math.sin(t[i]))\n",
    "\n",
    "c_x1 = 0  #BS Location Center Cell x-axis\n",
    "c_y1 = 0 #BS Location Center Cell y-axis\n",
    "\n",
    "\n",
    "#upper cell\n",
    "x2 = []\n",
    "y2 = []\n",
    "for i in range(len(t)):\n",
    "  x2.append(0+radius*math.cos(t[i]))\n",
    "  y2.append(((math.sqrt(3)/2)*2*radius) + (radius*math.sin(t[i])))\n",
    "\n",
    "c_x2 = 0  #BS Location Upper Cell x-axis\n",
    "c_y2 = ((math.sqrt(3)/2)*2*radius) #BS Location Upper Cell y-axis\n",
    "\n",
    "\n",
    "#lower cell\n",
    "x3 = []\n",
    "y3 = []\n",
    "for i in range(len(t)):\n",
    "  x3.append(0+radius*math.cos(t[i]))\n",
    "  y3.append(-((math.sqrt(3)/2)*2*radius) + (radius*math.sin(t[i])))\n",
    "\n",
    "c_x3 = 0  #BS Location Lower Cell x-axis\n",
    "c_y3 = -((math.sqrt(3)/2)*2*radius) #BS Location Lower Cell y-axis\n",
    "\n",
    "\n",
    "#right upper cell\n",
    "x4 = []\n",
    "y4 = []\n",
    "for i in range(len(t)):\n",
    "  x4.append((radius+(radius/2)) + radius*math.cos(t[i]))\n",
    "  y4.append(((math.sqrt(3)/2)*radius) + (radius*math.sin(t[i])))\n",
    "\n",
    "c_x4 = (radius+(radius/2))  #BS Location right upper Cell x-axis\n",
    "c_y4 = ((math.sqrt(3)/2)*radius) #BS Location right upper Cell y-axis\n",
    "\n",
    "\n",
    "#%Right Lower cell\n",
    "x5 = []\n",
    "y5 = []\n",
    "for i in range(len(t)):\n",
    "  x5.append((radius+(radius/2)) + radius*math.cos(t[i]))\n",
    "  y5.append(-((math.sqrt(3)/2)*radius) + (radius*math.sin(t[i])))\n",
    "\n",
    "c_x5 = (radius+(radius/2))  #BS Location right lower Cell x-axis\n",
    "c_y5 = -((math.sqrt(3)/2)*radius) #BS Location right lower Cell y-axis\n",
    "\n",
    "\n",
    "#%Left Upper cell\n",
    "x6 = []\n",
    "y6 = []\n",
    "for i in range(len(t)):\n",
    "  x6.append(-(radius+(radius/2)) + radius*math.cos(t[i]))\n",
    "  y6.append(((math.sqrt(3)/2)*radius) + (radius*math.sin(t[i])))\n",
    "\n",
    "c_x6 = -(radius+(radius/2))  #BS Location Left upper x-axis\n",
    "c_y6 = ((math.sqrt(3)/2)*radius) #BS Location Left upper y-axis\n",
    "\n",
    "\n",
    "#left lower cell\n",
    "x7 = []\n",
    "y7 = []\n",
    "for i in range(len(t)):\n",
    "  x7.append(-(radius+(radius/2)) + radius*math.cos(t[i]))\n",
    "  y7.append(-((math.sqrt(3)/2)*radius) + (radius*math.sin(t[i])))\n",
    "\n",
    "c_x7 = -(radius+(radius/2)) #BS Location left lower Cell x-axis\n",
    "c_y7 = -((math.sqrt(3)/2)*radius) #BS Location left lower Cell y-axis\n",
    "\n",
    "\n",
    "BS_locations_x = [c_x1, c_x2, c_x3, c_x4, c_x5, c_x6, c_x7]    #centre, up, low, right up, right low, left up, left low\n",
    "BS_locations_y = [c_y1, c_y2, c_y3, c_y4, c_y5, c_y6, c_y7]\n",
    "\n",
    "X =np.array([x1,x2,x3,x4,x5,x6,x7])\n",
    "Y =np.array([y1,y2,y3,y4,y5,y6,y7])\n",
    "\n",
    "diff = [c_x4, c_y4] \n",
    "ISD = np.linalg.norm(diff)\n",
    "print(\"ISD: \", ISD)"
   ]
  },
  {
   "cell_type": "code",
   "execution_count": 3,
   "metadata": {
    "colab": {
     "base_uri": "https://localhost:8080/",
     "height": 318
    },
    "id": "pgRlQUP-jHk-",
    "outputId": "8018e3f0-1260-498e-c185-57b3e40f6957"
   },
   "outputs": [
    {
     "name": "stdout",
     "output_type": "stream",
     "text": [
      "[-1500, -1500, -1500, -750.0, -750.0, -2250.0, -2250.0]\n",
      "[1732.0508075688772, 2598.0762113533156, 866.0254037844386, 2165.0635094610966, 1299.0381056766578, 2165.0635094610966, 1299.0381056766578]\n"
     ]
    },
    {
     "data": {
      "image/png": "[encoded data removed]",
      "text/plain": [
       "<Figure size 432x288 with 1 Axes>"
      ]
     },
     "metadata": {
      "needs_background": "light"
     },
     "output_type": "display_data"
    }
   ],
   "source": [
    "# ISD = sqrt(3)*RADIUS\n",
    "isd = math.sqrt(3)*radius\n",
    "BS2x = [x + (-3*radius) for x in BS_locations_x]\n",
    "BS2y = [y + (2*isd) for y in BS_locations_y]\n",
    "\n",
    "print(BS2x)\n",
    "print(BS2y)\n",
    "plt.scatter(BS2x, BS2y)\n",
    "plt.show()"
   ]
  },
  {
   "cell_type": "code",
   "execution_count": 4,
   "metadata": {
    "id": "y9awQYIAl_Vn"
   },
   "outputs": [],
   "source": [
    "BS3x = [x + (1.5*radius) for x in BS_locations_x]\n",
    "BS3y = [y + (2.5*isd) for y in BS_locations_y]"
   ]
  },
  {
   "cell_type": "code",
   "execution_count": 5,
   "metadata": {
    "id": "8i7gIAl2l-e-"
   },
   "outputs": [],
   "source": [
    "BS4x = [x + (4.5*radius) for x in BS_locations_x]\n",
    "BS4y = [y + (0.5*isd) for y in BS_locations_y]"
   ]
  },
  {
   "cell_type": "code",
   "execution_count": 6,
   "metadata": {
    "id": "vBX7nMS7l6RA"
   },
   "outputs": [],
   "source": [
    "BS5x = [x + (3*radius) for x in BS_locations_x]\n",
    "BS5y = [y + (-2*isd) for y in BS_locations_y]"
   ]
  },
  {
   "cell_type": "code",
   "execution_count": 7,
   "metadata": {
    "id": "-5WgywbymAem"
   },
   "outputs": [],
   "source": [
    "BS6x = [x + (-1.5*radius) for x in BS_locations_x]\n",
    "BS6y = [y + (-2.5*isd) for y in BS_locations_y]"
   ]
  },
  {
   "cell_type": "code",
   "execution_count": 8,
   "metadata": {
    "id": "fRp62Gjkl__I"
   },
   "outputs": [],
   "source": [
    "BS7x = [x + (-4.5*radius) for x in BS_locations_x]\n",
    "BS7y = [y + (-0.5*isd) for y in BS_locations_y]"
   ]
  },
  {
   "cell_type": "code",
   "execution_count": 9,
   "metadata": {
    "colab": {
     "base_uri": "https://localhost:8080/"
    },
    "id": "WF3nHg1MxuI2",
    "outputId": "1961dd7d-10a5-4d8d-d8df-c1f24a592781"
   },
   "outputs": [
    {
     "name": "stdout",
     "output_type": "stream",
     "text": [
      "[0, 0, 0, 750.0, 750.0, -750.0, -750.0, -1500, -1500, -1500, -750.0, -750.0, -2250.0, -2250.0, 750.0, 750.0, 750.0, 1500.0, 1500.0, 0.0, 0.0, 2250.0, 2250.0, 2250.0, 3000.0, 3000.0, 1500.0, 1500.0, 1500, 1500, 1500, 2250.0, 2250.0, 750.0, 750.0, -750.0, -750.0, -750.0, 0.0, 0.0, -1500.0, -1500.0, -2250.0, -2250.0, -2250.0, -1500.0, -1500.0, -3000.0, -3000.0]\n",
      "(49,)\n"
     ]
    }
   ],
   "source": [
    "BS_total_x = [BS_locations_x, BS2x, BS3x, BS4x, BS5x, BS6x, BS7x]\n",
    "#print(BS_total_x)\n",
    "BS_wrap_around_x = sum(BS_total_x, [])\n",
    "print(BS_wrap_around_x)\n",
    "print(np.shape(BS_wrap_around_x))\n",
    "\n",
    "BS_total_y = [BS_locations_y, BS2y, BS3y, BS4y, BS5y, BS6y, BS7y]\n",
    "BS_wrap_around_y = sum(BS_total_y, [])"
   ]
  },
  {
   "cell_type": "markdown",
   "metadata": {
    "id": "2TuY2hn71wl5"
   },
   "source": [
    "**x co-ordinates of Base Stations(all wrap around + sectors)**\n"
   ]
  },
  {
   "cell_type": "code",
   "execution_count": 10,
   "metadata": {
    "colab": {
     "base_uri": "https://localhost:8080/"
    },
    "id": "RT-krGRyFafW",
    "outputId": "dca98d03-a9a7-4960-bb32-57a372b8d995"
   },
   "outputs": [
    {
     "name": "stdout",
     "output_type": "stream",
     "text": [
      "[0, 0, 0, 0, 0, 0, 0, 0, 0, 750.0, 750.0, 750.0, 750.0, 750.0, 750.0, -750.0, -750.0, -750.0, -750.0, -750.0, -750.0, -1500, -1500, -1500, -1500, -1500, -1500, -1500, -1500, -1500, -750.0, -750.0, -750.0, -750.0, -750.0, -750.0, -2250.0, -2250.0, -2250.0, -2250.0, -2250.0, -2250.0, 750.0, 750.0, 750.0, 750.0, 750.0, 750.0, 750.0, 750.0, 750.0, 1500.0, 1500.0, 1500.0, 1500.0, 1500.0, 1500.0, 0.0, 0.0, 0.0, 0.0, 0.0, 0.0, 2250.0, 2250.0, 2250.0, 2250.0, 2250.0, 2250.0, 2250.0, 2250.0, 2250.0, 3000.0, 3000.0, 3000.0, 3000.0, 3000.0, 3000.0, 1500.0, 1500.0, 1500.0, 1500.0, 1500.0, 1500.0, 1500, 1500, 1500, 1500, 1500, 1500, 1500, 1500, 1500, 2250.0, 2250.0, 2250.0, 2250.0, 2250.0, 2250.0, 750.0, 750.0, 750.0, 750.0, 750.0, 750.0, -750.0, -750.0, -750.0, -750.0, -750.0, -750.0, -750.0, -750.0, -750.0, 0.0, 0.0, 0.0, 0.0, 0.0, 0.0, -1500.0, -1500.0, -1500.0, -1500.0, -1500.0, -1500.0, -2250.0, -2250.0, -2250.0, -2250.0, -2250.0, -2250.0, -2250.0, -2250.0, -2250.0, -1500.0, -1500.0, -1500.0, -1500.0, -1500.0, -1500.0, -3000.0, -3000.0, -3000.0, -3000.0, -3000.0, -3000.0] \n",
      " 147\n"
     ]
    }
   ],
   "source": [
    "BS_wrap_around_total3x = []\n",
    "for i in BS_wrap_around_x:\n",
    "  for j in range(3):\n",
    "    BS_wrap_around_total3x.append(i)\n",
    "\n",
    "print(BS_wrap_around_total3x,\"\\n\", len(BS_wrap_around_total3x))"
   ]
  },
  {
   "cell_type": "markdown",
   "metadata": {
    "id": "yCQZEYug1_oc"
   },
   "source": [
    "**y co-ordinates of Base Stations(all wrap around+sectors)**\n",
    "\n",
    "\n"
   ]
  },
  {
   "cell_type": "code",
   "execution_count": 11,
   "metadata": {
    "colab": {
     "base_uri": "https://localhost:8080/"
    },
    "id": "c-TKZYWp32In",
    "outputId": "4283b25f-72af-4cef-d79d-b46de30137ea"
   },
   "outputs": [
    {
     "name": "stdout",
     "output_type": "stream",
     "text": [
      "[0, 0, 0, 866.0254037844386, 866.0254037844386, 866.0254037844386, -866.0254037844386, -866.0254037844386, -866.0254037844386, 433.0127018922193, 433.0127018922193, 433.0127018922193, -433.0127018922193, -433.0127018922193, -433.0127018922193, 433.0127018922193, 433.0127018922193, 433.0127018922193, -433.0127018922193, -433.0127018922193, -433.0127018922193, 1732.0508075688772, 1732.0508075688772, 1732.0508075688772, 2598.0762113533156, 2598.0762113533156, 2598.0762113533156, 866.0254037844386, 866.0254037844386, 866.0254037844386, 2165.0635094610966, 2165.0635094610966, 2165.0635094610966, 1299.0381056766578, 1299.0381056766578, 1299.0381056766578, 2165.0635094610966, 2165.0635094610966, 2165.0635094610966, 1299.0381056766578, 1299.0381056766578, 1299.0381056766578, 2165.0635094610966, 2165.0635094610966, 2165.0635094610966, 3031.088913245535, 3031.088913245535, 3031.088913245535, 1299.038105676658, 1299.038105676658, 1299.038105676658, 2598.076211353316, 2598.076211353316, 2598.076211353316, 1732.0508075688772, 1732.0508075688772, 1732.0508075688772, 2598.076211353316, 2598.076211353316, 2598.076211353316, 1732.0508075688772, 1732.0508075688772, 1732.0508075688772, 433.0127018922193, 433.0127018922193, 433.0127018922193, 1299.0381056766578, 1299.0381056766578, 1299.0381056766578, -433.0127018922193, -433.0127018922193, -433.0127018922193, 866.0254037844386, 866.0254037844386, 866.0254037844386, 0.0, 0.0, 0.0, 866.0254037844386, 866.0254037844386, 866.0254037844386, 0.0, 0.0, 0.0, -1732.0508075688772, -1732.0508075688772, -1732.0508075688772, -866.0254037844386, -866.0254037844386, -866.0254037844386, -2598.0762113533156, -2598.0762113533156, -2598.0762113533156, -1299.0381056766578, -1299.0381056766578, -1299.0381056766578, -2165.0635094610966, -2165.0635094610966, -2165.0635094610966, -1299.0381056766578, -1299.0381056766578, -1299.0381056766578, -2165.0635094610966, -2165.0635094610966, -2165.0635094610966, -2165.0635094610966, -2165.0635094610966, -2165.0635094610966, -1299.038105676658, -1299.038105676658, -1299.038105676658, -3031.088913245535, -3031.088913245535, -3031.088913245535, -1732.0508075688772, -1732.0508075688772, -1732.0508075688772, -2598.076211353316, -2598.076211353316, -2598.076211353316, -1732.0508075688772, -1732.0508075688772, -1732.0508075688772, -2598.076211353316, -2598.076211353316, -2598.076211353316, -433.0127018922193, -433.0127018922193, -433.0127018922193, 433.0127018922193, 433.0127018922193, 433.0127018922193, -1299.0381056766578, -1299.0381056766578, -1299.0381056766578, 0.0, 0.0, 0.0, -866.0254037844386, -866.0254037844386, -866.0254037844386, 0.0, 0.0, 0.0, -866.0254037844386, -866.0254037844386, -866.0254037844386] \n",
      " 147\n"
     ]
    }
   ],
   "source": [
    "BS_wrap_around_total3y = []\n",
    "for i in BS_wrap_around_y:\n",
    "  for j in range(3):\n",
    "    BS_wrap_around_total3y.append(i)\n",
    "\n",
    "print(BS_wrap_around_total3y,\"\\n\", len(BS_wrap_around_total3y))"
   ]
  },
  {
   "cell_type": "code",
   "execution_count": 12,
   "metadata": {},
   "outputs": [
    {
     "name": "stdout",
     "output_type": "stream",
     "text": [
      "(147,)\n",
      "(147,)\n"
     ]
    }
   ],
   "source": [
    "BS_cor_x = np.array(BS_wrap_around_total3x)\n",
    "print(BS_cor_x.shape)\n",
    "\n",
    "BS_cor_y = np.array(BS_wrap_around_total3y)\n",
    "print(BS_cor_y.shape)"
   ]
  },
  {
   "cell_type": "markdown",
   "metadata": {
    "id": "n4aWbKxuMc-d"
   },
   "source": [
    "# Function to generate(nums) amount of users in each sector"
   ]
  },
  {
   "cell_type": "code",
   "execution_count": 13,
   "metadata": {
    "id": "QPD7cCINaONz"
   },
   "outputs": [],
   "source": [
    "def GetSecusers(nums):\n",
    "  \n",
    "  xy_all = np.zeros((3*nums, 2))\n",
    "  for j in range(7):\n",
    "    count = 0\n",
    "    m = 0\n",
    "    p2 = np.zeros((nums,2)) \n",
    "    hk = np.array([BS_locations_x[j],BS_locations_y[j]])\n",
    "\n",
    "    while(count<3):\n",
    "      a = np.array([X[j, 0+m] - BS_locations_x[j], Y[j, 0+m] - BS_locations_y[j]])\n",
    "      b = np.array([X[j, 2+m] - BS_locations_x[j], Y[j, 2+m] - BS_locations_y[j]])\n",
    "      p = []\n",
    "      for i in range(nums):\n",
    "        u1 = np.random.uniform(0,1)                \n",
    "        u2 = np.random.uniform(0,1)  \n",
    "        p.append(u1*a + u2*b)\n",
    "      p = np.array(p+hk)\n",
    "      angle_cord= p - hk\n",
    "      angles = np.arctan2(angle_cord[:,1], angle_cord[:,0])  #np.arctan2(y, x)\n",
    "\n",
    "\n",
    "      if(count==0):\n",
    "        p2 = p\n",
    "        angles2 = angles\n",
    "      else:\n",
    "        p2 = np.concatenate((p2, p),axis=0)\n",
    "        angles2 = np.concatenate((angles2, angles),axis=0)\n",
    "      m+=2\n",
    "      count+=1\n",
    "\n",
    "    #CLUB ALL Base station users\n",
    "    if(j==0):\n",
    "      xy_all = p2\n",
    "      angles_all = angles2\n",
    "    else:\n",
    "      xy_all = np.concatenate((xy_all, p2), axis=0)\n",
    "      angles_all = np.concatenate((angles_all, angles2),axis=0)  \n",
    "\n",
    "  n_users, nu = np.shape(xy_all)\n",
    "  #print(np.shape(xy_all))\n",
    "  #print(n_users)\n",
    "\n",
    "  return n_users, xy_all[:,0], xy_all[:,1]\n",
    "    "
   ]
  },
  {
   "cell_type": "code",
   "execution_count": 14,
   "metadata": {
    "colab": {
     "base_uri": "https://localhost:8080/",
     "height": 429
    },
    "id": "Z02SqY6CtUlK",
    "outputId": "05d19df1-c71d-4f65-d0cb-7d614e7e5b17"
   },
   "outputs": [
    {
     "data": {
      "image/png": "[encoded data removed]",
      "text/plain": [
       "<Figure size 640x480 with 1 Axes>"
      ]
     },
     "metadata": {
      "needs_background": "light"
     },
     "output_type": "display_data"
    }
   ],
   "source": [
    "from matplotlib.pyplot import figure\n",
    "figure(figsize=(8, 6), dpi=80)\n",
    "\n",
    "\n",
    "numm = 10\n",
    "total_user, xs, ys= GetSecusers(numm)\n",
    "plt.plot(x1,y1)\n",
    "plt.plot(x2,y2)                                                                 \n",
    "plt.plot(x3,y3)\n",
    "plt.plot(x4,y4)\n",
    "plt.plot(x5,y5)\n",
    "plt.plot(x6,y6)\n",
    "plt.plot(x7,y7)\n",
    "plt.plot(BS_locations_x,BS_locations_y,'b*')    \n",
    "\n",
    "plt.scatter(BS2x, BS2y)\n",
    "plt.scatter(BS3x, BS3y)\n",
    "plt.scatter(BS4x, BS4y)\n",
    "plt.scatter(BS5x, BS5y)\n",
    "plt.scatter(BS6x, BS6y)\n",
    "plt.scatter(BS7x, BS7y)\n",
    "\n",
    "plt.title('Hexagonal Tier-1 BS distribution with wrap around')\n",
    "                                                                                \n",
    "for i in range(7):\n",
    "  k =(3*numm)*i\n",
    "  plt.scatter(xs[k:k+numm], ys[k:k+numm], edgecolor='b', facecolor='none', alpha=0.5)\n",
    "  plt.scatter(xs[k+numm:k+2*numm], ys[k+numm:k+2*numm], edgecolor='r', facecolor='none', alpha=0.5)\n",
    "  plt.scatter(xs[k+2*numm:k+3*numm], ys[k+2*numm:k+3*numm], edgecolor='g', facecolor='none', alpha=0.5)\n",
    "\n",
    "\n",
    "plt.show()"
   ]
  },
  {
   "cell_type": "code",
   "execution_count": 15,
   "metadata": {
    "id": "DNiGDqv3c60y"
   },
   "outputs": [],
   "source": [
    "def PlotSecUsers(n_users, xs, ys):\n",
    "  \n",
    "  plt.plot(x1,y1)   #x,x2,x3,...,x7 are hex cell boundary         \n",
    "  plt.plot(x2,y2)              \n",
    "  plt.plot(x3,y3)\n",
    "  plt.plot(x4,y4)\n",
    "  plt.plot(x5,y5)\n",
    "  plt.plot(x6,y6)\n",
    "  plt.plot(x7,y7)\n",
    "  plt.plot(BS_locations_x,BS_locations_y,'r*')\n",
    "  plt.title('Hexagonal Tier-1 BS distribution')\n",
    "  plt.xlabel('x')\n",
    "  plt.ylabel('y')\n",
    "\n",
    "  numm = int (n_users/21)\n",
    "\n",
    "  for i in range(7):\n",
    "    k =(3*numm)*i\n",
    "    plt.scatter(xs[k:k+numm], ys[k:k+numm], edgecolor='b', facecolor='none', alpha=0.5)\n",
    "    plt.scatter(xs[k+numm:k+2*numm], ys[k+numm:k+2*numm], edgecolor='r', facecolor='none', alpha=0.5)\n",
    "    plt.scatter(xs[k+2*numm:k+3*numm], ys[k+2*numm:k+3*numm], edgecolor='g', facecolor='none', alpha=0.5)\n",
    "\n"
   ]
  },
  {
   "cell_type": "markdown",
   "metadata": {
    "id": "eTlmef_5ANpT"
   },
   "source": [
    "## **Mobility of users**"
   ]
  },
  {
   "cell_type": "code",
   "execution_count": 16,
   "metadata": {
    "id": "1BotD2tuzjUx"
   },
   "outputs": [],
   "source": [
    "#Random Waypoint Model\n",
    "\n",
    "def User_Mobility(total_user, xs, ys, v_min, v_max, Time_instants):\n",
    "\n",
    "  # range of x and y coordinates for user mobility\n",
    "  x_min = -2.25*radius\n",
    "  x_max = 2.25*radius\n",
    "\n",
    "  y_min = -1.5*isd\n",
    "  y_max = 1.5*isd\n",
    "\n",
    "\n",
    "  # position matrices\n",
    "  x_pos = np.zeros((total_user, Time_instants))\n",
    "  y_pos = np.zeros((total_user, Time_instants))\n",
    "\n",
    "  \n",
    "\n",
    "  # Choose velocity uniformly between v_min and v_max\n",
    "  velocity = np.random.randint(v_min, v_max, (total_user))#, Time_instants)) #m/sec  #total_users x Time_instants\n",
    "  #print(np.shape(velocity))\n",
    "\n",
    "  for i in range(total_user):\n",
    "\n",
    "    x_previous = xs[i]\n",
    "    y_previous = ys[i]\n",
    "\n",
    "\n",
    "\n",
    "    # User starts from initial position to a final position\n",
    "    x_pos[i,0] = xs[i]\n",
    "    y_pos[i,0] = ys[i]\n",
    "\n",
    "\n",
    "    for t in range(1,Time_instants):\n",
    "\n",
    "      #directions of the mobile users\n",
    "      theta = np.random.randint(0,360)\n",
    "\n",
    "      x_pos[i,t] = x_previous + velocity[i]* math.cos(math.radians(theta))\n",
    "\n",
    "      if x_pos[i,t]>x_max or x_pos[i,t]<x_min:\n",
    "        theta = 180 - theta\n",
    "        x_pos[i,t] = x_previous + velocity[i]* math.cos(math.radians(theta))\n",
    "\n",
    "      y_pos[i,t] = y_previous + velocity[i]* math.sin(math.radians(theta))\n",
    "\n",
    "      if y_pos[i,t]>y_max or y_pos[i,t]<y_min:\n",
    "        theta = 180 - theta\n",
    "        y_pos[i,t] = y_previous + velocity[i]* math.sin(math.radians(theta))\n",
    "\n",
    "      # Now the current position of the users becomes the previous position for next time instant\n",
    "      x_previous = x_pos[i,t]\n",
    "      y_previous = y_pos[i,t]\n",
    "\n",
    "    \n",
    "  x_mobile = np.transpose(x_pos) #time_instants x total_users\n",
    "  y_mobile = np.transpose(y_pos)\n",
    "\n",
    "  velocity_users = np.transpose(velocity)\n",
    "  \n",
    "  return x_mobile, y_mobile, velocity_users\n"
   ]
  },
  {
   "cell_type": "code",
   "execution_count": 17,
   "metadata": {
    "colab": {
     "base_uri": "https://localhost:8080/",
     "height": 446
    },
    "id": "M-QY8J-dhW9d",
    "outputId": "29e261e5-da3f-418c-8440-f012ea0b38b8"
   },
   "outputs": [
    {
     "name": "stdout",
     "output_type": "stream",
     "text": [
      "(105,)\n"
     ]
    },
    {
     "data": {
      "image/png": "[encoded data removed]",
      "text/plain": [
       "<Figure size 640x480 with 1 Axes>"
      ]
     },
     "metadata": {
      "needs_background": "light"
     },
     "output_type": "display_data"
    }
   ],
   "source": [
    "from matplotlib.pyplot import figure\n",
    "figure(figsize=(8, 6), dpi=80)\n",
    "\n",
    "\n",
    "numm = 5\n",
    "total_user, xs, ys= GetSecusers(numm)\n",
    "\n",
    "XX, YY, vel_user = User_Mobility(total_user, xs, ys, 10, 20, 50)\n",
    "print(np.shape(vel_user))\n",
    "\n",
    "plt.plot(x1,y1)\n",
    "plt.plot(x2,y2)                                                                 \n",
    "plt.plot(x3,y3)\n",
    "plt.plot(x4,y4)\n",
    "plt.plot(x5,y5)\n",
    "plt.plot(x6,y6)\n",
    "plt.plot(x7,y7)\n",
    "plt.plot(BS_locations_x,BS_locations_y,'b*')    \n",
    "\n",
    "#plt.scatter(BS2x, BS2y)\n",
    "#plt.scatter(BS3x, BS3y)\n",
    "#plt.scatter(BS4x, BS4y)\n",
    "#plt.scatter(BS5x, BS5y)\n",
    "#plt.scatter(BS6x, BS6y)\n",
    "#plt.scatter(BS7x, BS7y)\n",
    "\n",
    "plt.title('Hexagonal Tier-1 BS distribution with wrap around')\n",
    "                                                                                \n",
    "for i in range(7):\n",
    "  k =(3*numm)*i\n",
    "  plt.scatter(xs[k:k+numm], ys[k:k+numm], edgecolor='b', facecolor='none', alpha=0.5)\n",
    "  plt.scatter(xs[k+numm:k+2*numm], ys[k+numm:k+2*numm], edgecolor='r', facecolor='none', alpha=0.5)\n",
    "  plt.scatter(xs[k+2*numm:k+3*numm], ys[k+2*numm:k+3*numm], edgecolor='g', facecolor='none', alpha=0.5)\n",
    "\n",
    "\n",
    "for i in range(total_user):\n",
    "  plt.plot(XX[:,i], YY[:,i])\n",
    "\n",
    "plt.show()"
   ]
  },
  {
   "cell_type": "markdown",
   "metadata": {
    "id": "05SPnRibJuKF"
   },
   "source": [
    "# **Path Loss RMA Scenario**"
   ]
  },
  {
   "cell_type": "code",
   "execution_count": 20,
   "metadata": {
    "id": "X37llk5Uo-Ln"
   },
   "outputs": [],
   "source": [
    "#PL model for RMA scenario\n",
    "\n",
    "def PathlossRMA(d_2d, d_3d):\n",
    "  f_c = 2.3 #GHz\n",
    "  c = 3*pow(10,8) #m/s\n",
    "\n",
    "  h_ut = 1.5 #m\n",
    "  h_bs = 35 #m\n",
    "  h = 5 #m --avg. building height\n",
    "  W = 20 #m --avg. street width\n",
    "\n",
    "  d_bp = 2*math.pi*h_bs*h_ut*f_c*pow(10,9)/c\n",
    "\n",
    "  #LOS probability\n",
    "  if d_2d <= 10:\n",
    "    P_los = 1\n",
    "  else:\n",
    "    P_los = math.exp(-1*(d_2d-10)/1000)\n",
    "    \n",
    "  PL_1 = 20*math.log(40*math.pi*d_3d*f_c/3 , 10) + min(0.03*pow(h, 1.72) , 10)*math.log(d_3d, 10) - min(0.044*pow(h, 1.72) , 14.77) + 0.002*math.log10(h)*d_3d\n",
    "  PL_2 = PL_1*d_bp + 40*math.log10(d_3d/d_bp)\n",
    "\n",
    "  #NLOS\n",
    "  #PL_NLOS = 161.04 - 7.1*math.log10(W) +7.5*math.log10(h) - (24.37-3.7*pow(h/h_bs, 2))*math.log10(h_bs) + (43.42-3.1*math.log10(h_bs))*(math.log10(d_3d)-3) + 20*math.log10(f_c) - (3.2*pow(math.log10(11.75*h_ut) , 2) - 4.97)\n",
    "  PL_NLOS = 0\n",
    "\n",
    "  #LOS for prob>0.5\n",
    "  if P_los >= 0.5:\n",
    "    if d_2d <= d_bp:\n",
    "      return PL_1\n",
    "    elif d_2d > d_bp and d_2d < 10*1000:\n",
    "      return PL_2\n",
    "\n",
    "  else: #NLOS for prob<0.5\n",
    "    if d_2d <= d_bp:\n",
    "      return max(PL_1, PL_NLOS)\n",
    "    elif d_2d > d_bp and d_2d < 5000:\n",
    "      return max(PL_2, PL_NLOS)\n",
    "\n"
   ]
  },
  {
   "cell_type": "markdown",
   "metadata": {
    "id": "oQX4kF3sOMo-"
   },
   "source": [
    "# **Path Loss UMA Scenario**"
   ]
  },
  {
   "cell_type": "code",
   "execution_count": 21,
   "metadata": {
    "id": "YobD_slKntjH"
   },
   "outputs": [],
   "source": [
    "f_c = 2.3 #GHz\n",
    "c = 3*pow(10,8) #m/s"
   ]
  },
  {
   "cell_type": "code",
   "execution_count": 22,
   "metadata": {
    "id": "itv_20rmIHoM"
   },
   "outputs": [],
   "source": [
    "#PL model for UMA scenario\n",
    "\n",
    "def PathlossUMA(d_2d, d_3d):\n",
    "  f_c = 2.3 #GHz\n",
    "  c = 3*pow(10,8) #m/s\n",
    "  h_ut = 1.5 #m\n",
    "  h_bs = 25 #m\n",
    "  h_e = 1\n",
    "  h_bs_eff = h_bs - h_e\n",
    "  h_ut_eff = h_ut - h_e\n",
    "\n",
    "  d_bp_eff = 4*h_bs_eff*h_ut_eff*f_c*pow(10,9)/c\n",
    "\n",
    "  #LOS probability\n",
    "  #for outdoor users\n",
    "  if d_2d <= 18:\n",
    "    P_los = 1\n",
    "  else:\n",
    "    if h_ut <= 13:\n",
    "      C_h = 0\n",
    "    else:\n",
    "      C_h = pow((h_ut - 13)/10, 1.5)\n",
    "    \n",
    "    temp1 = (math.exp(-1*d_2d/63))*(1 - 18/d_2d)\n",
    "    #temp2 = 1 + C_h*(5/4)*pow(d_2d/100, 3)*math.exp(-d_2d/150)\n",
    "    temp2 = 1\n",
    "    P_los = (18/d_2d + temp1)*temp2\n",
    "    #print(P_los)\n",
    "\n",
    "  #print(P_los)\n",
    "  PL_1 = 28 + 22*math.log(d_3d, 10) + 20*math.log(f_c, 10)\n",
    "  PL_2 = 28 + 40*math.log(d_3d, 10) + 20*math.log(f_c, 10) - 9*math.log(pow(d_bp_eff, 2) + pow(h_bs - h_ut, 2) , 10)\n",
    "  #PL_NLOS = 13.54 + 39.08*math.log(d_3d, 10) + 20*math.log(f_c, 10) - 0.6*(h_ut - 1.5)\n",
    "  PL_NLOS = 0\n",
    "\n",
    "  #LOS for prob>0.5\n",
    "  if P_los >= 0.5:\n",
    "    if d_2d <= d_bp_eff:\n",
    "      return PL_1\n",
    "    elif d_2d > d_bp_eff and d_2d < 5000:\n",
    "      return PL_2\n",
    "\n",
    "  else: #NLOS for prob<0.5\n",
    "    if d_2d <= d_bp_eff:\n",
    "      return max(PL_1, PL_NLOS)\n",
    "    elif d_2d > d_bp_eff and d_2d < 5000:\n",
    "      return max(PL_2, PL_NLOS)"
   ]
  },
  {
   "cell_type": "markdown",
   "metadata": {
    "id": "lSeQC8ubAzPb"
   },
   "source": [
    "# Distance Calculations"
   ]
  },
  {
   "cell_type": "code",
   "execution_count": 23,
   "metadata": {
    "id": "6oTIxTYA_bk_"
   },
   "outputs": [],
   "source": [
    "def getdist(n_users,x,y, time_instants):\n",
    "  h_bs = 25 #m\n",
    "  h_ut = 1.5 #m\n",
    "  h = 5 #avg building height\n",
    "  h_act = h_bs - h_ut #m\n",
    "\n",
    "  #distance from each user to base station\n",
    "  Dr_2d = np.zeros((time_instants, 7*7*3, n_users))\n",
    "\n",
    "  for t in range(time_instants):\n",
    "    for i in range(7*7*3):\n",
    "      for j in range(n_users):\n",
    "        Dr_2d[t][i][j] = math.sqrt(pow(BS_wrap_around_total3x[i] - x[t][j], 2) + pow(BS_wrap_around_total3y[i] - y[t][j], 2)) \n",
    "\n",
    "  Dr_3d = np.zeros((time_instants, 7*7*3, n_users))\n",
    "\n",
    "  for t in range(time_instants):\n",
    "    for i in range(7*7*3):\n",
    "      for j in range(n_users):\n",
    "        Dr_3d[t][i][j] = math.sqrt(pow(Dr_2d[t][i][j], 2) + pow(h_act, 2))\n",
    "\n",
    "  return Dr_2d, Dr_3d"
   ]
  },
  {
   "cell_type": "markdown",
   "metadata": {
    "id": "gISAVKKc3QXa"
   },
   "source": [
    "# Path Loss Matrix"
   ]
  },
  {
   "cell_type": "code",
   "execution_count": 24,
   "metadata": {
    "id": "_te2zhttTWjl"
   },
   "outputs": [],
   "source": [
    "def PathLoss(dist2d, dist3d, n_users):\n",
    "  Dr_2d, Dr_3d = dist2d, dist3d\n",
    "  \n",
    "  PLr = np.zeros(np.shape(Dr_2d))\n",
    "\n",
    "  time_instants, row, col = np.shape(Dr_2d)\n",
    "\n",
    "  #path loss calculation\n",
    "  for t in range(time_instants):\n",
    "    for i in range(7*7*3):\n",
    "      for j in range(n_users):\n",
    "        #PLr[t][i][j] = PathlossRMA(Dr_2d[t][i][j], Dr_3d[t][i][j])   #for RMA\n",
    "        PLr[t][i][j] = PathlossUMA(Dr_2d[t][i][j], Dr_3d[t][i][j])   #for UMA\n",
    "  \n",
    "  return PLr\n"
   ]
  },
  {
   "cell_type": "code",
   "execution_count": 26,
   "metadata": {
    "id": "A1y6S0G5o1IP"
   },
   "outputs": [],
   "source": [
    "def PathLossWrapped(pathloss1):\n",
    "  time_instant, basest, numusers = np.shape(pathloss1)\n",
    "\n",
    "  pathloss_wrap = np.zeros((time_instant, basest*3, numusers))\n",
    "\n",
    "  for t in range(time_instant):\n",
    "    for i in range(basest):\n",
    "      if(i==0):\n",
    "        j = i\n",
    "      pathloss_wrap[t][j] = np.copy(pathloss1[t][i])\n",
    "      pathloss_wrap[t][j+1] = np.copy(pathloss1[t][i])\n",
    "      pathloss_wrap[t][j+2] = np.copy(pathloss1[t][i])\n",
    "      j = i+3\n",
    "\n",
    "  return pathloss_wrap"
   ]
  },
  {
   "cell_type": "markdown",
   "metadata": {
    "id": "IhiDP9fY3LWC"
   },
   "source": [
    "# Log Normal Shadowing"
   ]
  },
  {
   "cell_type": "code",
   "execution_count": 28,
   "metadata": {
    "id": "8YPvDyGFdScf"
   },
   "outputs": [],
   "source": [
    "def LogNormShadow(PLr): \n",
    "  X = np.random.normal(0,4, np.shape(PLr))  #shape of path loss matrix   #sigma in dB\n",
    "  log_norm_loss = 1*X  #dB \n",
    "\n",
    "  #print(log_norm_loss)\n",
    "  \n",
    "  return log_norm_loss"
   ]
  },
  {
   "cell_type": "markdown",
   "metadata": {},
   "source": [
    "# Fixed Shadowing"
   ]
  },
  {
   "cell_type": "code",
   "execution_count": 30,
   "metadata": {},
   "outputs": [],
   "source": [
    "def getshadloss(x_mobile, y_mobile): #time_instants x users\n",
    "    \n",
    "    X = np.random.normal(0,4, 9)  #dB\n",
    "\n",
    "    shad_loss = np.zeros(np.shape(x_mobile))\n",
    "    #fixed_shad = [-0.28322395, 1.21221711, 0.14622614, -0.83883009, -0.13781312, 1.34763206, 0.6653947, 0.06966137, -0.19037237]\n",
    "    fixed_shad = np.copy(X)\n",
    "    R = radius\n",
    "    ISD = math.sqrt(3)*radius\n",
    "    \n",
    "    rows, cols = np.shape(x_mobile)\n",
    "    \n",
    "    for i in range(rows):\n",
    "        for j in range(cols):\n",
    "            x = x_mobile[i][j]\n",
    "            y = y_mobile[i][j]\n",
    "            \n",
    "            if(x>= -3*R and x<= -R and y>= ISD and y<= 3*ISD):\n",
    "                shad_loss[i][j] = fixed_shad[0]\n",
    "                \n",
    "            elif(x>= -R and x<= R and y>= ISD and y<= 3*ISD):\n",
    "                shad_loss[i][j] = fixed_shad[1]\n",
    "                \n",
    "            elif(x>= R and x<= 3*R and y>= ISD and y<= 3*ISD):\n",
    "                shad_loss[i][j] = fixed_shad[2]\n",
    "                \n",
    "            elif(x>= -3*R and x<= -R and y>= -ISD and y<= ISD):\n",
    "                shad_loss[i][j] = fixed_shad[3]\n",
    "                \n",
    "            elif(x>= -R and x<= R and y>= -ISD and y<= ISD):\n",
    "                shad_loss[i][j] = fixed_shad[4]\n",
    "                \n",
    "            elif(x>= R and x<= 3*R and y>= -ISD and y<= ISD):\n",
    "                shad_loss[i][j] = fixed_shad[5]\n",
    "                \n",
    "            elif(x>= -3*R and x<= -R and y>= -3*ISD and y<= -ISD):\n",
    "                shad_loss[i][j] = fixed_shad[6]\n",
    "                \n",
    "            elif(x>= -R and x<= R and y>= -3*ISD and y<= -ISD):\n",
    "                shad_loss[i][j] = fixed_shad[7]\n",
    "                \n",
    "            elif(x>= R and x<= 3*R and y>= -3*ISD and y<= -ISD):\n",
    "                shad_loss[i][j] = fixed_shad[8]\n",
    "                \n",
    "            else:\n",
    "                shad_loss[i][j] = 0\n",
    "            \n",
    "        \n",
    "    return shad_loss\n",
    "    "
   ]
  },
  {
   "cell_type": "markdown",
   "metadata": {},
   "source": [
    "# Correlated Shadowing"
   ]
  },
  {
   "cell_type": "code",
   "execution_count": 32,
   "metadata": {
    "scrolled": true
   },
   "outputs": [],
   "source": [
    "def correlated_shadowing(x_mobile, y_mobile, sigma_shd):\n",
    "    bs_wrap = 49\n",
    "    D_cor = 100\n",
    "    #sigma_shd = 100 #dB\n",
    "    \n",
    "    Dist_bs = np.zeros((bs_wrap, bs_wrap))\n",
    "    Corr_bs = np.zeros(np.shape(Dist_bs))\n",
    "    \n",
    "    time_steps, num_users = np.shape(x_mobile)\n",
    "    \n",
    "    #shadowing matrix dim -> time_steps x base_stations x total_users\n",
    "    shadowing_mat = np.zeros((time_steps, 147, num_users))\n",
    "\n",
    "    for m1 in range(bs_wrap):\n",
    "        for m2 in range(bs_wrap):\n",
    "            Dist_bs[m1][m2] = np.linalg.norm(BS_cords[:, m1] - BS_cords[:, m2])\n",
    "            Corr_bs[m1][m2] = np.exp(-np.log(2)*Dist_bs[m1][m2]/D_cor)\n",
    "\n",
    "    A1 = np.linalg.cholesky(Corr_bs)\n",
    "    #print(A1)\n",
    "    \n",
    "    bsrandom1 = np.random.normal(size = bs_wrap)\n",
    "\n",
    "    sh_BS = np.matmul(A1, bsrandom1)\n",
    "    #print(sh_BS) #dim -> total_base_stations\n",
    "\n",
    "    for m in range(bs_wrap):\n",
    "        sh_BS[m] = (1/math.sqrt(2))*sigma_shd*sh_BS[m]/np.linalg.norm(A1[m,:])\n",
    "\n",
    "    #print(sh_BS)\n",
    "\n",
    "    # for users\n",
    "    for time in range(time_steps):\n",
    "        \n",
    "        time_steps, num_users = np.shape(x_mobile)\n",
    "        Dist_user = np.zeros((num_users, num_users))\n",
    "        Corr_user = np.zeros((num_users, num_users))\n",
    "\n",
    "        for m1 in range(num_users):\n",
    "            for m2 in range(num_users):\n",
    "                Dist_user[m1][m2] = np.linalg.norm([x_mobile[time][m1]-x_mobile[time][m2], y_mobile[time][m1]-y_mobile[time][m2]])\n",
    "                Corr_user[m1][m2] = np.exp(-np.log(2)*Dist_user[m1][m2]/D_cor)\n",
    "\n",
    "        A2 = np.linalg.cholesky(Corr_user)\n",
    "        userrandom1 = np.random.normal(size = num_users)\n",
    "        \n",
    "        sh_user = np.matmul(A2, userrandom1) #dim -> num_users\n",
    "\n",
    "        for m in range(num_users):\n",
    "            sh_user[m] = (1/math.sqrt(2))*sigma_shd*sh_user[m]/np.linalg.norm(A2[m])\n",
    "        \n",
    "        #Shadowing Matrix for each time step:\n",
    "        \n",
    "        for bs in range(147):\n",
    "            for user in range(num_users):\n",
    "                shadowing_mat[time][bs][user] = sh_BS[bs//3] + sh_user[user]\n",
    "            \n",
    "    \n",
    "    #print(shadowing_mat)\n",
    "\n",
    "    return shadowing_mat"
   ]
  },
  {
   "cell_type": "markdown",
   "metadata": {
    "id": "m7aywk6Pu8qM"
   },
   "source": [
    "# Directivity Gain and Antenna Gain"
   ]
  },
  {
   "cell_type": "markdown",
   "metadata": {
    "id": "WGWT7XpEay8o"
   },
   "source": [
    "![direc_gain_formula.PNG](data:image/png;base64,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)"
   ]
  },
  {
   "cell_type": "code",
   "execution_count": 36,
   "metadata": {
    "id": "nuRZ1ogx85RB"
   },
   "outputs": [],
   "source": [
    "#angle made by user wrt each base station\n",
    "def UserAngle(mobileuser_x, mobileuser_y, BS_totalx, BS_totaly):\n",
    "  \n",
    "  t, user_num = np.shape(mobileuser_x) #time_instant, total_users\n",
    "\n",
    "  total_bss = len(BS_totalx)\n",
    "\n",
    "  all_angles = np.zeros((t, total_bss, user_num))\n",
    "  dx = np.zeros((t, total_bss, user_num))\n",
    "  dy = np.zeros((t, total_bss, user_num)) \n",
    "\n",
    "  for time in range(t):\n",
    "    for bs in range(total_bss):\n",
    "      dx[time][bs] = mobileuser_x[time] - BS_totalx[bs]\n",
    "\n",
    "  for time in range(t):\n",
    "    for bs in range(total_bss):\n",
    "      dy[time][bs] = mobileuser_y[time] - BS_totaly[bs]\n",
    "\n",
    "  \n",
    "  all_angles = np.arctan2(dy, dx)  #time_instant x base_station x total_users\n",
    "\n",
    "  return all_angles"
   ]
  },
  {
   "cell_type": "code",
   "execution_count": 39,
   "metadata": {
    "id": "LJFJl-6Zu8LU"
   },
   "outputs": [],
   "source": [
    "#phi calculation\n",
    "def FindPhi(user_angles):\n",
    "  user_angles = user_angles*180/math.pi   #radians to degree\n",
    "  \n",
    "  t, bs, users = np.shape(user_angles)\n",
    "\n",
    "  phi = np.zeros((t, bs, users)) #bs = (7*3)*7 = 147 = 49*3\n",
    "\n",
    "  lobe_angle = np.array([[60,180,-60]*int(bs/3)])\n",
    "  lobe_angle = lobe_angle.transpose()\n",
    "\n",
    "  for time in range(t):\n",
    "    phi[time] = lobe_angle - user_angles[time]\n",
    "\n",
    "\n",
    "  #phi = lobe_angle - user_angles\n",
    "\n",
    "  phi = np.where(phi>180, 360-phi, phi)  #convert phi range in -180 to 180 deg i.e., phi = phi>180 ? 360-phi : phi\n",
    "\n",
    "  return phi*math.pi/180    # degree back to radians\n"
   ]
  },
  {
   "cell_type": "code",
   "execution_count": 41,
   "metadata": {
    "id": "bhAXZWuSX5CS"
   },
   "outputs": [],
   "source": [
    "def DirectivityGain(users_phi):\n",
    "  users_phi = users_phi * 180/math.pi #converts to degree\n",
    "  dir_gain = 25 - np.minimum(12*np.power(users_phi/70, 2), 20)\n",
    "\n",
    "  return dir_gain"
   ]
  },
  {
   "cell_type": "code",
   "execution_count": 43,
   "metadata": {
    "id": "F3UnvTsRGIqJ"
   },
   "outputs": [],
   "source": [
    "def AntennaGain(dir_gain):  #ant_gain = k*Direc_gain -> dir_gain(dB) = 10log10(k) + Direc_gain(dB)\n",
    "  k = 0.5                   #k = antenna efficiency factor\n",
    "  antenna_gain = 10*math.log10(k) + dir_gain \n",
    "  \n",
    "  return antenna_gain"
   ]
  },
  {
   "cell_type": "markdown",
   "metadata": {
    "id": "lVCNoZ81OfGV"
   },
   "source": [
    "# **Channel Gain Calculations**"
   ]
  },
  {
   "cell_type": "code",
   "execution_count": 45,
   "metadata": {},
   "outputs": [],
   "source": [
    "def ChannelGainCalculation(pathloss, shadloss, userangles): #Channel Gain Calculations\n",
    "    \n",
    "    users_phi = FindPhi(userangles)\n",
    "    directivity_gain = DirectivityGain(users_phi)\n",
    "    \n",
    "    #channel gain dim -> time_steps x base_stations x users\n",
    "    \n",
    "    rchgain = - pathloss + directivity_gain - shadloss\n",
    "    rchgain_lin = np.power(10, (rchgain)/10) #linear\n",
    "\n",
    "\n",
    "    return rchgain_lin"
   ]
  },
  {
   "cell_type": "markdown",
   "metadata": {
    "id": "IfcKU_ohT2su"
   },
   "source": [
    "# **SINR calculation**"
   ]
  },
  {
   "cell_type": "code",
   "execution_count": 47,
   "metadata": {
    "id": "t7pk33KIe0k3"
   },
   "outputs": [],
   "source": [
    "def SINR_b4(channel_gain_matrix):\n",
    "  #e total transmit power of a BS, Ps = 46dBm\n",
    "  #dBm to watts\n",
    "  #Ps = 46dBm--->39.81071706W ---> 10log(39.81071706) = 16dB\n",
    "  M = 99\n",
    "\n",
    "  Ps_dbm = 46 #dbm\n",
    "  \n",
    "  #dBm TO watts CONVERTER\n",
    "  Ps_lin = pow(10, (Ps_dbm-30)/10)   #Psdbm is in dBm and Ps_watt in Watts\n",
    "  Ps_lin = Ps_lin/M\n",
    "\n",
    "  #watts TO dB CONVERTER\n",
    "  Ps_dB = 10*math.log10(Ps_lin) #dB\n",
    "\n",
    "  #calculation in linear then converting to dB\n",
    "  signal_power_matrix = Ps_lin * channel_gain_matrix[:,0:21, :]\n",
    "\n",
    "\n",
    "  #NOISE\n",
    "#------------------------------------------------------------------------------------\n",
    "  #noise power kTB, kT = -174dBm/Hz, BW = bandwidth       \n",
    "  #kTB(dBm) = -174 + 10log(BW) \n",
    "#------------------------------------------------------------------------------------\n",
    "  \n",
    "  noise = -174 + 10*math.log10(180*1000) #dBm         BW = 180KHz                   \n",
    "  #dBm TO watts CONVERTER\n",
    "  noise_watt = pow(10, (noise-30)/10)   #noise is in dBm and noise_watt in Watts\n",
    "  #watts TO dB CONVERTER\n",
    "  noise_dB = 10*math.log(noise_watt, 10) #dB\n",
    "\n",
    "\n",
    "  #INTERFERENCE\n",
    "  interference_matrix = np.zeros(np.shape(channel_gain_matrix[:,0:21, :]))\n",
    "\n",
    "  intf_time, intf_bs, intf_user = np.shape(interference_matrix)\n",
    "\n",
    "  total_time, total_base_stations, total_users = np.shape(channel_gain_matrix)\n",
    "\n",
    "  bs_reference = []\n",
    "\n",
    "  in_one_cell = total_users#int(total_users/7) #total users in one hex cell\n",
    "\n",
    "  for k in range(7):\n",
    "    for i in range(in_one_cell):\n",
    "      bs_reference.append(k)\n",
    "  \n",
    "  bs_reference = np.array(bs_reference)\n",
    "\n",
    "  #print(np.shape(bs_reference))\n",
    "\n",
    "\n",
    "  for inft in range(intf_time):\n",
    "    for bss in range(intf_bs):\n",
    "      for user in range(intf_user): \n",
    "        m = bs_reference[user]\n",
    "        x_dis = BS_locations_x[m]\n",
    "        y_dis = BS_locations_y[m]\n",
    "        for j in range(total_base_stations):\n",
    "          interference_distance = math.sqrt(pow(x_dis - BS_wrap_around_total3x[j], 2) + pow(y_dis - BS_wrap_around_total3y[j], 2))\n",
    "          if (j!=bss and  math.floor(interference_distance) <= ISD):\n",
    "            interference_matrix[inft][bss][user] +=  Ps_lin * channel_gain_matrix[inft][j][user]\n",
    "\n",
    " \n",
    "  #SINR\n",
    "  interference_plus_noise_matrix = 0.33*interference_matrix + noise_watt\n",
    "\n",
    "  sinr = signal_power_matrix/interference_plus_noise_matrix  #linear\n",
    "\n",
    "  sinr_dB = 10*np.log10(sinr) #dBe\n",
    "  sinr_mean = np.mean(sinr_dB)\n",
    "\n",
    "  return sinr_dB, signal_power_matrix, interference_plus_noise_matrix\n"
   ]
  },
  {
   "cell_type": "markdown",
   "metadata": {},
   "source": [
    "# Predicition for each Model"
   ]
  },
  {
   "cell_type": "code",
   "execution_count": null,
   "metadata": {},
   "outputs": [],
   "source": [
    "from tensorflow.keras.models import load_model\n"
   ]
  },
  {
   "cell_type": "code",
   "execution_count": null,
   "metadata": {},
   "outputs": [],
   "source": [
    "def dnnpred(dnn_model, data):\n",
    "    "
   ]
  },
  {
   "cell_type": "code",
   "execution_count": 166,
   "metadata": {},
   "outputs": [],
   "source": [
    "# Prediction Function\n",
    "def PredictSinr(data):\n",
    "    result_dict = {'dnn': {'rmse': 0, 'mae': 0}, \n",
    "                   'lstm': {'rmse': 0, 'mae': 0},\n",
    "                   'transformer': {'rmse': 0, 'mae': 0},\n",
    "                   'hmm': {'rmse': 0, 'mae': 0},\n",
    "                   'kf': {'rmse': 0, 'mae': 0},\n",
    "                   'svr': {'rmse': 0, 'mae': 0},\n",
    "                   'arima': {'rmse': 0, 'mae': 0},\n",
    "                  }\n",
    "    \n",
    "    result_dict['dnn']['rmse'], result_dict['dnn']['mae'] = [random.randint(1,5) for i in range(2)] #dnnpred(data)\n",
    "    result_dict['lstm']['rmse'], result_dict['lstm']['mae'] = [random.randint(1,5) for i in range(2)] #lstmpred(data)\n",
    "    result_dict['transformer']['rmse'], result_dict['transformer']['mae'] = [random.randint(1,5) for i in range(2)] #transformerpred(data)\n",
    "    result_dict['hmm']['rmse'], result_dict['hmm']['mae'] = [random.randint(1,5) for i in range(2)] #hmmpred(data)\n",
    "    result_dict['kf']['rmse'], result_dict['kf']['mae'] = [random.randint(1,5) for i in range(2)] #kfpred(data)\n",
    "    result_dict['svr']['rmse'], result_dict['svr']['mae'] = [random.randint(1,5) for i in range(2)] #svrpred(data)\n",
    "    result_dict['arima']['rmse'], result_dict['arima']['mae'] = [random.randint(1,5) for i in range(2)] #arimapred(data)\n",
    "    \n",
    "    \n",
    "    \n",
    "    return result_dict\n"
   ]
  },
  {
   "cell_type": "code",
   "execution_count": 167,
   "metadata": {},
   "outputs": [
    {
     "data": {
      "text/plain": [
       "[5, 6]"
      ]
     },
     "execution_count": 167,
     "metadata": {},
     "output_type": "execute_result"
    }
   ],
   "source": [
    "a = [random.randint(1,6) for i in range(2)]\n",
    "a"
   ]
  },
  {
   "cell_type": "markdown",
   "metadata": {
    "id": "_WBV442ULDAP"
   },
   "source": [
    "# **SIMULATION FUNCTION**"
   ]
  },
  {
   "cell_type": "code",
   "execution_count": 168,
   "metadata": {},
   "outputs": [
    {
     "name": "stdout",
     "output_type": "stream",
     "text": [
      "      DNN  LSTM  Transformer  KF  HMM  SVR  ARIMA\n",
      "RMSE  1.0     0            0   0    0    0      0\n",
      "MAE   0.7     0            0   0    0    0      0\n"
     ]
    }
   ],
   "source": [
    "#create results dataframe\n",
    "l = [0, 0]\n",
    "results_dict = {'DNN': l, 'LSTM': l, 'Transformer': l, 'KF': l, 'HMM': l, 'SVR': l, 'ARIMA': l}\n",
    "df = pd.DataFrame(data=results_dict, index=['RMSE', 'MAE'])\n",
    "alist  = [2.0, 1.4]\n",
    "df['DNN'] = [x/len(alist) for x in alist]\n",
    "\n",
    "print(df)"
   ]
  },
  {
   "cell_type": "markdown",
   "metadata": {
    "id": "OI72tcxzh5Vq"
   },
   "source": [
    "# **SINR with Shadowing**"
   ]
  },
  {
   "cell_type": "code",
   "execution_count": 169,
   "metadata": {},
   "outputs": [],
   "source": [
    "def getsinrdataset(nums, each_sec, Time_instants, v_min, v_max, std_dev):#nums = total no.of simulations, each_sec = no. of users in each secto \n",
    "    for i in range(nums):\n",
    "        iteration_num = i\n",
    "        num_users, x, y = GetSecusers(each_sec)  #<----- each_sec amount of users in each sector for 1 iteration\n",
    "        #PlotSecUsers(num_users, x, y)\n",
    "\n",
    "        x_mobile, y_mobile, users_velocity = User_Mobility(num_users, x, y, v_min, v_max, Time_instants) #time_instants x total_users\n",
    "\n",
    "        #doing calculations only for the centre cell\n",
    "        num_users = each_sec*3\n",
    "        x_mobile = x_mobile[:, :num_users]\n",
    "        y_mobile = y_mobile[:, :num_users]\n",
    "\n",
    "        dist2d, dist3d = getdist(num_users, x_mobile, y_mobile, Time_instants)\n",
    "\n",
    "        path_loss_wrap = PathLoss(dist2d, dist3d, num_users) #this path loss considers 3 base station in each hex cell\n",
    "\n",
    "        shadowing = correlated_shadowing(x_mobile, y_mobile, std_dev)\n",
    "\n",
    "        angles_users = UserAngle(x_mobile, y_mobile, BS_wrap_around_total3x, BS_wrap_around_total3y)\n",
    "\n",
    "        channel_gain_linear = ChannelGainCalculation(path_loss_wrap, shadowing, angles_users)\n",
    "\n",
    "        channel_gain_dB = 10*np.log10(channel_gain_linear)\n",
    "\n",
    "        Sinr_dB,_,_ = SINR_b4(channel_gain_linear)      # time_steps x 21 x 210\n",
    "        \n",
    "        if(i==0):\n",
    "            sinr_dataset = Sinr_dB[:, 0, 0][np.newaxis, :]\n",
    "        else:\n",
    "            sinr_dataset = np.concatenate((sinr_dataset, Sinr_dB[:, 0, 0][np.newaxis, :]), axis=0)\n",
    "            \n",
    "\n",
    "        return sinr_dataset"
   ]
  },
  {
   "cell_type": "code",
   "execution_count": 201,
   "metadata": {
    "id": "QOZcixxponR1"
   },
   "outputs": [],
   "source": [
    "def SINRsimulations(nums, each_sec, Time_instants, v_min, v_max, std_dev, df):  #nums = total no.of simulations, each_sec = no. of users in each sector\n",
    "    sum_dnn = [0, 0] #rmse, ,mae\n",
    "    sum_lstm = [0, 0]\n",
    "    sum_transformer = [0, 0]\n",
    "    sum_hmm = [0, 0]\n",
    "    sum_kf = [0, 0]\n",
    "    sum_arima = [0, 0]\n",
    "    sum_svr = [0, 0]\n",
    "    \n",
    "    for i in range(nums):\n",
    "        iteration_num = i\n",
    "#         num_users, x, y = GetSecusers(each_sec)  #<----- each_sec amount of users in each sector for 1 iteration\n",
    "#         #PlotSecUsers(num_users, x, y)\n",
    "\n",
    "#         x_mobile, y_mobile, users_velocity = User_Mobility(num_users, x, y, v_min, v_max, Time_instants) #time_instants x total_users\n",
    "\n",
    "#         #doing calculations only for the centre cell\n",
    "#         num_users = each_sec*3\n",
    "#         x_mobile = x_mobile[:, :num_users]\n",
    "#         y_mobile = y_mobile[:, :num_users]\n",
    "\n",
    "#         dist2d, dist3d = getdist(num_users, x_mobile, y_mobile, Time_instants)\n",
    "\n",
    "#         path_loss_wrap = PathLoss(dist2d, dist3d, num_users) #this path loss considers 3 base station in each hex cell\n",
    "\n",
    "#         shadowing = correlated_shadowing(x_mobile, y_mobile, std_dev)\n",
    "\n",
    "#         angles_users = UserAngle(x_mobile, y_mobile, BS_wrap_around_total3x, BS_wrap_around_total3y)\n",
    "\n",
    "#         channel_gain_linear = ChannelGainCalculation(path_loss_wrap, shadowing, angles_users)\n",
    "\n",
    "#         channel_gain_dB = 10*np.log10(channel_gain_linear)\n",
    "\n",
    "#         Sinr_dB,_,_ = SINR_b4(channel_gain_linear)      # time_steps x 21 x 210(users)\n",
    "        \n",
    "        user_sinr = [1,2] #Sinr_dB[:,0,0]\n",
    "        \n",
    "        result_dict = PredictSinr(user_sinr)\n",
    "        \n",
    "        sum_dnn[0] += result_dict['dnn']['rmse']\n",
    "        sum_dnn[1] += result_dict['dnn']['mae']\n",
    "        sum_lstm[0] += result_dict['lstm']['rmse']\n",
    "        sum_lstm[1] += result_dict['lstm']['mae']\n",
    "        sum_transformer[0] += result_dict['transformer']['rmse']\n",
    "        sum_transformer[1] += result_dict['transformer']['mae']\n",
    "        sum_hmm[0] += result_dict['hmm']['rmse']\n",
    "        sum_hmm[1] += result_dict['hmm']['mae']\n",
    "        sum_kf[0] += result_dict['kf']['rmse']\n",
    "        sum_kf[1] += result_dict['kf']['mae']\n",
    "        sum_svr[0] += result_dict['svr']['rmse']\n",
    "        sum_svr[1] += result_dict['svr']['mae']\n",
    "        sum_arima[0] += result_dict['arima']['rmse']\n",
    "        sum_arima[1] += result_dict['arima']['mae']\n",
    "    \n",
    "    df['DNN'] = [x/nums for x in sum_dnn]\n",
    "    df['LSTM'] = [x/nums for x in sum_lstm]\n",
    "    df['Transformer'] = [x/nums for x in sum_transformer]\n",
    "    df['HMM'] = [x/nums for x in sum_hmm]    \n",
    "    df['KF'] = [x/nums for x in sum_kf]    \n",
    "    df['SVR'] = [x/nums for x in sum_svr]\n",
    "    df['ARIMA'] = [x/nums for x in sum_arima]        \n",
    "    \n",
    "    return df"
   ]
  },
  {
   "cell_type": "code",
   "execution_count": 243,
   "metadata": {},
   "outputs": [],
   "source": [
    "# Function to run simulations -> it returns the RMSE, MAE values for all models in the form of a csv file\n",
    "# this csv file stores results for each experiment we are performing -> eg. fixed std dev, variable speed and vice versa\n",
    "\n",
    "class SIM():\n",
    "    def __init__(self, num, total_time_steps, std_dev, v_min, v_max):\n",
    "        self.num = num\n",
    "        self.total_time_steps = total_time_steps\n",
    "        self.std_dev = std_dev\n",
    "        self.v_min = v_min\n",
    "        self.v_max = v_max\n",
    "        \n",
    "    def RunSimulations(self, each_sec = 2):\n",
    "        #create results dataframe\n",
    "        l = [0, 0]\n",
    "        results_dict = {'DNN': l, 'LSTM': l, 'Transformer': l, 'KF': l, 'HMM': l, 'SVR': l, 'ARIMA': l}\n",
    "        df = pd.DataFrame(data=results_dict, index=['RMSE', 'MAE'])\n",
    "\n",
    "        start = time.time()\n",
    "        exp_result = SINRsimulations(self.num, each_sec, self.total_time_steps, self.v_min, self.v_max, self.std_dev, df)\n",
    "        end = time.time()\n",
    "        \n",
    "        print(f'Time taken: {(end-start)/60} mins')\n",
    "\n",
    "        exp_result.to_csv(f'model_results/simulationresult_{std_dev}db_{v_min}to{v_max}mps.csv')\n",
    "\n",
    "        return exp_result\n",
    "        \n",
    "    def getsinrdataset(self, each_sec=1):#nums = total no.of simulations, each_sec = no. of users in each secto \n",
    "        for i in range(self.num):\n",
    "            iteration_num = i\n",
    "            num_users, x, y = GetSecusers(each_sec)  #<----- each_sec amount of users in each sector for 1 iteration\n",
    "            #PlotSecUsers(num_users, x, y)\n",
    "\n",
    "            x_mobile, y_mobile, users_velocity = User_Mobility(num_users, x, y, self.v_min, self.v_max, self.total_time_steps) #time_instants x total_users\n",
    "\n",
    "            #doing calculations only for the centre cell\n",
    "            num_users = each_sec*3\n",
    "            x_mobile = x_mobile[:, :num_users]\n",
    "            y_mobile = y_mobile[:, :num_users]\n",
    "\n",
    "            dist2d, dist3d = getdist(num_users, x_mobile, y_mobile, self.total_time_steps)\n",
    "\n",
    "            path_loss_wrap = PathLoss(dist2d, dist3d, num_users) #this path loss considers 3 base station in each hex cell\n",
    "\n",
    "            shadowing = correlated_shadowing(x_mobile, y_mobile, self.std_dev)\n",
    "\n",
    "            angles_users = UserAngle(x_mobile, y_mobile, BS_wrap_around_total3x, BS_wrap_around_total3y)\n",
    "\n",
    "            channel_gain_linear = ChannelGainCalculation(path_loss_wrap, shadowing, angles_users)\n",
    "\n",
    "            channel_gain_dB = 10*np.log10(channel_gain_linear)\n",
    "\n",
    "            Sinr_dB,_,_ = SINR_b4(channel_gain_linear)      # time_steps x 21 x 210\n",
    "\n",
    "            if(i==0):\n",
    "                sinr_dataset = Sinr_dB[:, 0, 0][np.newaxis, :]\n",
    "            else:\n",
    "                sinr_dataset = np.concatenate((sinr_dataset, Sinr_dB[:, 0, 0][np.newaxis, :]), axis=0)\n",
    "            \n",
    "            print(sinr_dataset.shape)\n",
    "\n",
    "        return sinr_dataset\n"
   ]
  },
  {
   "cell_type": "code",
   "execution_count": 244,
   "metadata": {},
   "outputs": [],
   "source": [
    "#result = RunSimulations(num, total_time_steps, std_dev, v_min, v_max)"
   ]
  },
  {
   "cell_type": "code",
   "execution_count": 245,
   "metadata": {},
   "outputs": [],
   "source": [
    "#Object of the class sim\n",
    "iterations = 10\n",
    "timesteps = 1000\n",
    "std_dev = 4 #dB\n",
    "v_min = 10 #m/s\n",
    "v_max = 20 #m/s\n",
    "\n",
    "sim = SIM(iterations, timesteps, std_dev, v_min, v_max)\n"
   ]
  },
  {
   "cell_type": "code",
   "execution_count": 246,
   "metadata": {},
   "outputs": [
    {
     "name": "stdout",
     "output_type": "stream",
     "text": [
      "Time taken: 0.00010703802108764648 mins\n"
     ]
    }
   ],
   "source": [
    "testdf = sim.RunSimulations()"
   ]
  },
  {
   "cell_type": "code",
   "execution_count": 247,
   "metadata": {},
   "outputs": [
    {
     "data": {
      "text/html": [
       "<div>\n",
       "<style scoped>\n",
       "    .dataframe tbody tr th:only-of-type {\n",
       "        vertical-align: middle;\n",
       "    }\n",
       "\n",
       "    .dataframe tbody tr th {\n",
       "        vertical-align: top;\n",
       "    }\n",
       "\n",
       "    .dataframe thead th {\n",
       "        text-align: right;\n",
       "    }\n",
       "</style>\n",
       "<table border=\"1\" class=\"dataframe\">\n",
       "  <thead>\n",
       "    <tr style=\"text-align: right;\">\n",
       "      <th></th>\n",
       "      <th>DNN</th>\n",
       "      <th>LSTM</th>\n",
       "      <th>Transformer</th>\n",
       "      <th>KF</th>\n",
       "      <th>HMM</th>\n",
       "      <th>SVR</th>\n",
       "      <th>ARIMA</th>\n",
       "    </tr>\n",
       "  </thead>\n",
       "  <tbody>\n",
       "    <tr>\n",
       "      <th>RMSE</th>\n",
       "      <td>2.6</td>\n",
       "      <td>3.5</td>\n",
       "      <td>2.9</td>\n",
       "      <td>3.4</td>\n",
       "      <td>2.8</td>\n",
       "      <td>3.3</td>\n",
       "      <td>2.2</td>\n",
       "    </tr>\n",
       "    <tr>\n",
       "      <th>MAE</th>\n",
       "      <td>3.5</td>\n",
       "      <td>2.9</td>\n",
       "      <td>3.4</td>\n",
       "      <td>3.6</td>\n",
       "      <td>3.2</td>\n",
       "      <td>2.9</td>\n",
       "      <td>2.8</td>\n",
       "    </tr>\n",
       "  </tbody>\n",
       "</table>\n",
       "</div>"
      ],
      "text/plain": [
       "      DNN  LSTM  Transformer   KF  HMM  SVR  ARIMA\n",
       "RMSE  2.6   3.5          2.9  3.4  2.8  3.3    2.2\n",
       "MAE   3.5   2.9          3.4  3.6  3.2  2.9    2.8"
      ]
     },
     "execution_count": 247,
     "metadata": {},
     "output_type": "execute_result"
    }
   ],
   "source": [
    "testdf"
   ]
  },
  {
   "cell_type": "code",
   "execution_count": null,
   "metadata": {},
   "outputs": [
    {
     "name": "stdout",
     "output_type": "stream",
     "text": [
      "(1, 1000)\n"
     ]
    }
   ],
   "source": [
    "start = time.time()\n",
    "user_dataset = sim.getsinrdataset()\n",
    "print(f'Time taken: {(time.time()-start)/60} mins')"
   ]
  },
  {
   "cell_type": "code",
   "execution_count": null,
   "metadata": {},
   "outputs": [],
   "source": [
    "user_dataset.shape"
   ]
  },
  {
   "cell_type": "code",
   "execution_count": null,
   "metadata": {},
   "outputs": [],
   "source": [
    "for i in range(iterations):\n",
    "    plt.plot(user_dataset[i])\n",
    "    plt.show()"
   ]
  },
  {
   "cell_type": "code",
   "execution_count": null,
   "metadata": {},
   "outputs": [],
   "source": []
  }
 ],
 "metadata": {
  "colab": {
   "collapsed_sections": [
    "JN6lJVEZpKxJ",
    "kSSmafV2n-uF",
    "seeOIAmmY-Ge",
    "CdnNcVq5xVFi"
   ],
   "name": "Handover Prediction with DNN LSTM.ipynb",
   "provenance": [],
   "toc_visible": true
  },
  "kernelspec": {
   "display_name": "Python 3",
   "language": "python",
   "name": "python3"
  },
  "language_info": {
   "codemirror_mode": {
    "name": "ipython",
    "version": 3
   },
   "file_extension": ".py",
   "mimetype": "text/x-python",
   "name": "python",
   "nbconvert_exporter": "python",
   "pygments_lexer": "ipython3",
   "version": "3.8.10"
  }
 },
 "nbformat": 4,
 "nbformat_minor": 1
}

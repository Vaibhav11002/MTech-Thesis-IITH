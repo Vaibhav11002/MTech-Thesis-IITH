{
 "cells": [
  {
   "cell_type": "code",
   "execution_count": 16,
   "id": "c41a8ca1",
   "metadata": {},
   "outputs": [],
   "source": [
    "import numpy as np\n",
    "import matplotlib.pyplot as plt\n",
    "import math\n",
    "import random\n",
    "\n",
    "import numpy as np\n",
    "import matplotlib.pyplot as plt\n",
    "import pandas as pd\n",
    "import tensorflow as tf\n",
    "from sklearn.preprocessing import MinMaxScaler\n",
    "from matplotlib.pyplot import figure \n",
    "\n",
    "keras = tf.keras\n",
    "\n",
    "from sklearn.metrics import mean_squared_error, mean_absolute_error"
   ]
  },
  {
   "cell_type": "code",
   "execution_count": 17,
   "id": "63eaf7bc",
   "metadata": {
    "scrolled": false
   },
   "outputs": [
    {
     "ename": "TypeError",
     "evalue": "Fetch argument <tf.Variable 'UnreadVariable' shape=(2, 1) dtype=float32> has invalid type <class 'tensorflow.python.ops.resource_variable_ops._UnreadVariable'>, must be a string or Tensor. (Can not convert a _UnreadVariable into a Tensor or Operation.)",
     "output_type": "error",
     "traceback": [
      "\u001b[0;31m---------------------------------------------------------------------------\u001b[0m",
      "\u001b[0;31mTypeError\u001b[0m                                 Traceback (most recent call last)",
      "\u001b[0;32m~/.local/lib/python3.8/site-packages/tensorflow/python/client/session.py\u001b[0m in \u001b[0;36m__init__\u001b[0;34m(self, fetches, contraction_fn)\u001b[0m\n\u001b[1;32m    305\u001b[0m       \u001b[0;32mtry\u001b[0m\u001b[0;34m:\u001b[0m\u001b[0;34m\u001b[0m\u001b[0;34m\u001b[0m\u001b[0m\n\u001b[0;32m--> 306\u001b[0;31m         self._unique_fetches.append(ops.get_default_graph().as_graph_element(\n\u001b[0m\u001b[1;32m    307\u001b[0m             fetch, allow_tensor=True, allow_operation=True))\n",
      "\u001b[0;32m~/.local/lib/python3.8/site-packages/tensorflow/python/framework/ops.py\u001b[0m in \u001b[0;36mas_graph_element\u001b[0;34m(self, obj, allow_tensor, allow_operation)\u001b[0m\n\u001b[1;32m   3754\u001b[0m     \u001b[0;32mwith\u001b[0m \u001b[0mself\u001b[0m\u001b[0;34m.\u001b[0m\u001b[0m_lock\u001b[0m\u001b[0;34m:\u001b[0m\u001b[0;34m\u001b[0m\u001b[0;34m\u001b[0m\u001b[0m\n\u001b[0;32m-> 3755\u001b[0;31m       \u001b[0;32mreturn\u001b[0m \u001b[0mself\u001b[0m\u001b[0;34m.\u001b[0m\u001b[0m_as_graph_element_locked\u001b[0m\u001b[0;34m(\u001b[0m\u001b[0mobj\u001b[0m\u001b[0;34m,\u001b[0m \u001b[0mallow_tensor\u001b[0m\u001b[0;34m,\u001b[0m \u001b[0mallow_operation\u001b[0m\u001b[0;34m)\u001b[0m\u001b[0;34m\u001b[0m\u001b[0;34m\u001b[0m\u001b[0m\n\u001b[0m\u001b[1;32m   3756\u001b[0m \u001b[0;34m\u001b[0m\u001b[0m\n",
      "\u001b[0;32m~/.local/lib/python3.8/site-packages/tensorflow/python/framework/ops.py\u001b[0m in \u001b[0;36m_as_graph_element_locked\u001b[0;34m(self, obj, allow_tensor, allow_operation)\u001b[0m\n\u001b[1;32m   3842\u001b[0m       \u001b[0;31m# We give up!\u001b[0m\u001b[0;34m\u001b[0m\u001b[0;34m\u001b[0m\u001b[0;34m\u001b[0m\u001b[0m\n\u001b[0;32m-> 3843\u001b[0;31m       raise TypeError(\"Can not convert a %s into a %s.\" %\n\u001b[0m\u001b[1;32m   3844\u001b[0m                       (type(obj).__name__, types_str))\n",
      "\u001b[0;31mTypeError\u001b[0m: Can not convert a _UnreadVariable into a Tensor or Operation.",
      "\nDuring handling of the above exception, another exception occurred:\n",
      "\u001b[0;31mTypeError\u001b[0m                                 Traceback (most recent call last)",
      "\u001b[0;32m<ipython-input-17-4e27f482a116>\u001b[0m in \u001b[0;36m<module>\u001b[0;34m\u001b[0m\n\u001b[1;32m     60\u001b[0m     \u001b[0mobservations\u001b[0m \u001b[0;34m=\u001b[0m \u001b[0mnp\u001b[0m\u001b[0;34m.\u001b[0m\u001b[0marray\u001b[0m\u001b[0;34m(\u001b[0m\u001b[0;34m[\u001b[0m\u001b[0;36m0\u001b[0m\u001b[0;34m]\u001b[0m\u001b[0;34m*\u001b[0m\u001b[0mN\u001b[0m\u001b[0;34m,\u001b[0m \u001b[0mdtype\u001b[0m\u001b[0;34m=\u001b[0m\u001b[0mnp\u001b[0m\u001b[0;34m.\u001b[0m\u001b[0mfloat32\u001b[0m\u001b[0;34m)\u001b[0m\u001b[0;34m\u001b[0m\u001b[0;34m\u001b[0m\u001b[0m\n\u001b[1;32m     61\u001b[0m     \u001b[0;32mfor\u001b[0m \u001b[0mi\u001b[0m \u001b[0;32min\u001b[0m \u001b[0mrange\u001b[0m\u001b[0;34m(\u001b[0m\u001b[0;36m1\u001b[0m\u001b[0;34m,\u001b[0m\u001b[0mN\u001b[0m\u001b[0;34m)\u001b[0m\u001b[0;34m:\u001b[0m\u001b[0;34m\u001b[0m\u001b[0;34m\u001b[0m\u001b[0m\n\u001b[0;32m---> 62\u001b[0;31m         \u001b[0mmodel\u001b[0m\u001b[0;34m[\u001b[0m\u001b[0mi\u001b[0m\u001b[0;34m]\u001b[0m\u001b[0;34m,\u001b[0m \u001b[0mestimate1\u001b[0m\u001b[0;34m[\u001b[0m\u001b[0mi\u001b[0m\u001b[0;34m]\u001b[0m \u001b[0;34m,\u001b[0m \u001b[0merror1\u001b[0m\u001b[0;34m[\u001b[0m\u001b[0mi\u001b[0m\u001b[0;34m]\u001b[0m\u001b[0;34m,\u001b[0m \u001b[0mestimate2\u001b[0m\u001b[0;34m[\u001b[0m\u001b[0mi\u001b[0m\u001b[0;34m]\u001b[0m\u001b[0;34m,\u001b[0m \u001b[0merror2\u001b[0m\u001b[0;34m[\u001b[0m\u001b[0mi\u001b[0m\u001b[0;34m]\u001b[0m\u001b[0;34m,\u001b[0m \u001b[0mobservations\u001b[0m\u001b[0;34m[\u001b[0m\u001b[0mi\u001b[0m\u001b[0;34m]\u001b[0m \u001b[0;34m=\u001b[0m \u001b[0msess\u001b[0m\u001b[0;34m.\u001b[0m\u001b[0mrun\u001b[0m\u001b[0;34m(\u001b[0m\u001b[0;34m[\u001b[0m\u001b[0mupdate_model\u001b[0m\u001b[0;34m,\u001b[0m \u001b[0mpredict_xhat\u001b[0m\u001b[0;34m,\u001b[0m \u001b[0mpredict_P\u001b[0m\u001b[0;34m,\u001b[0m \u001b[0mupdate_xhat\u001b[0m\u001b[0;34m,\u001b[0m \u001b[0mupdate_P\u001b[0m\u001b[0;34m,\u001b[0m \u001b[0mz\u001b[0m\u001b[0;34m]\u001b[0m\u001b[0;34m)\u001b[0m\u001b[0;34m\u001b[0m\u001b[0;34m\u001b[0m\u001b[0m\n\u001b[0m\u001b[1;32m     63\u001b[0m \u001b[0;34m\u001b[0m\u001b[0m\n\u001b[1;32m     64\u001b[0m \u001b[0;31m#plot\u001b[0m\u001b[0;34m\u001b[0m\u001b[0;34m\u001b[0m\u001b[0;34m\u001b[0m\u001b[0m\n",
      "\u001b[0;32m~/.local/lib/python3.8/site-packages/tensorflow/python/client/session.py\u001b[0m in \u001b[0;36mrun\u001b[0;34m(self, fetches, feed_dict, options, run_metadata)\u001b[0m\n\u001b[1;32m    965\u001b[0m \u001b[0;34m\u001b[0m\u001b[0m\n\u001b[1;32m    966\u001b[0m     \u001b[0;32mtry\u001b[0m\u001b[0;34m:\u001b[0m\u001b[0;34m\u001b[0m\u001b[0;34m\u001b[0m\u001b[0m\n\u001b[0;32m--> 967\u001b[0;31m       result = self._run(None, fetches, feed_dict, options_ptr,\n\u001b[0m\u001b[1;32m    968\u001b[0m                          run_metadata_ptr)\n\u001b[1;32m    969\u001b[0m       \u001b[0;32mif\u001b[0m \u001b[0mrun_metadata\u001b[0m\u001b[0;34m:\u001b[0m\u001b[0;34m\u001b[0m\u001b[0;34m\u001b[0m\u001b[0m\n",
      "\u001b[0;32m~/.local/lib/python3.8/site-packages/tensorflow/python/client/session.py\u001b[0m in \u001b[0;36m_run\u001b[0;34m(self, handle, fetches, feed_dict, options, run_metadata)\u001b[0m\n\u001b[1;32m   1173\u001b[0m \u001b[0;34m\u001b[0m\u001b[0m\n\u001b[1;32m   1174\u001b[0m     \u001b[0;31m# Create a fetch handler to take care of the structure of fetches.\u001b[0m\u001b[0;34m\u001b[0m\u001b[0;34m\u001b[0m\u001b[0;34m\u001b[0m\u001b[0m\n\u001b[0;32m-> 1175\u001b[0;31m     fetch_handler = _FetchHandler(\n\u001b[0m\u001b[1;32m   1176\u001b[0m         self._graph, fetches, feed_dict_tensor, feed_handles=feed_handles)\n\u001b[1;32m   1177\u001b[0m \u001b[0;34m\u001b[0m\u001b[0m\n",
      "\u001b[0;32m~/.local/lib/python3.8/site-packages/tensorflow/python/client/session.py\u001b[0m in \u001b[0;36m__init__\u001b[0;34m(self, graph, fetches, feeds, feed_handles)\u001b[0m\n\u001b[1;32m    485\u001b[0m     \"\"\"\n\u001b[1;32m    486\u001b[0m     \u001b[0;32mwith\u001b[0m \u001b[0mgraph\u001b[0m\u001b[0;34m.\u001b[0m\u001b[0mas_default\u001b[0m\u001b[0;34m(\u001b[0m\u001b[0;34m)\u001b[0m\u001b[0;34m:\u001b[0m\u001b[0;34m\u001b[0m\u001b[0;34m\u001b[0m\u001b[0m\n\u001b[0;32m--> 487\u001b[0;31m       \u001b[0mself\u001b[0m\u001b[0;34m.\u001b[0m\u001b[0m_fetch_mapper\u001b[0m \u001b[0;34m=\u001b[0m \u001b[0m_FetchMapper\u001b[0m\u001b[0;34m.\u001b[0m\u001b[0mfor_fetch\u001b[0m\u001b[0;34m(\u001b[0m\u001b[0mfetches\u001b[0m\u001b[0;34m)\u001b[0m\u001b[0;34m\u001b[0m\u001b[0;34m\u001b[0m\u001b[0m\n\u001b[0m\u001b[1;32m    488\u001b[0m     \u001b[0mself\u001b[0m\u001b[0;34m.\u001b[0m\u001b[0m_fetches\u001b[0m \u001b[0;34m=\u001b[0m \u001b[0;34m[\u001b[0m\u001b[0;34m]\u001b[0m\u001b[0;34m\u001b[0m\u001b[0;34m\u001b[0m\u001b[0m\n\u001b[1;32m    489\u001b[0m     \u001b[0mself\u001b[0m\u001b[0;34m.\u001b[0m\u001b[0m_targets\u001b[0m \u001b[0;34m=\u001b[0m \u001b[0;34m[\u001b[0m\u001b[0;34m]\u001b[0m\u001b[0;34m\u001b[0m\u001b[0;34m\u001b[0m\u001b[0m\n",
      "\u001b[0;32m~/.local/lib/python3.8/site-packages/tensorflow/python/client/session.py\u001b[0m in \u001b[0;36mfor_fetch\u001b[0;34m(fetch)\u001b[0m\n\u001b[1;32m    266\u001b[0m     \u001b[0;32melif\u001b[0m \u001b[0misinstance\u001b[0m\u001b[0;34m(\u001b[0m\u001b[0mfetch\u001b[0m\u001b[0;34m,\u001b[0m \u001b[0;34m(\u001b[0m\u001b[0mlist\u001b[0m\u001b[0;34m,\u001b[0m \u001b[0mtuple\u001b[0m\u001b[0;34m)\u001b[0m\u001b[0;34m)\u001b[0m\u001b[0;34m:\u001b[0m\u001b[0;34m\u001b[0m\u001b[0;34m\u001b[0m\u001b[0m\n\u001b[1;32m    267\u001b[0m       \u001b[0;31m# NOTE(touts): This is also the code path for namedtuples.\u001b[0m\u001b[0;34m\u001b[0m\u001b[0;34m\u001b[0m\u001b[0;34m\u001b[0m\u001b[0m\n\u001b[0;32m--> 268\u001b[0;31m       \u001b[0;32mreturn\u001b[0m \u001b[0m_ListFetchMapper\u001b[0m\u001b[0;34m(\u001b[0m\u001b[0mfetch\u001b[0m\u001b[0;34m)\u001b[0m\u001b[0;34m\u001b[0m\u001b[0;34m\u001b[0m\u001b[0m\n\u001b[0m\u001b[1;32m    269\u001b[0m     \u001b[0;32melif\u001b[0m \u001b[0misinstance\u001b[0m\u001b[0;34m(\u001b[0m\u001b[0mfetch\u001b[0m\u001b[0;34m,\u001b[0m \u001b[0mcollections_abc\u001b[0m\u001b[0;34m.\u001b[0m\u001b[0mMapping\u001b[0m\u001b[0;34m)\u001b[0m\u001b[0;34m:\u001b[0m\u001b[0;34m\u001b[0m\u001b[0;34m\u001b[0m\u001b[0m\n\u001b[1;32m    270\u001b[0m       \u001b[0;32mreturn\u001b[0m \u001b[0m_DictFetchMapper\u001b[0m\u001b[0;34m(\u001b[0m\u001b[0mfetch\u001b[0m\u001b[0;34m)\u001b[0m\u001b[0;34m\u001b[0m\u001b[0;34m\u001b[0m\u001b[0m\n",
      "\u001b[0;32m~/.local/lib/python3.8/site-packages/tensorflow/python/client/session.py\u001b[0m in \u001b[0;36m__init__\u001b[0;34m(self, fetches)\u001b[0m\n\u001b[1;32m    378\u001b[0m     \u001b[0;32melse\u001b[0m\u001b[0;34m:\u001b[0m\u001b[0;34m\u001b[0m\u001b[0;34m\u001b[0m\u001b[0m\n\u001b[1;32m    379\u001b[0m       \u001b[0mself\u001b[0m\u001b[0;34m.\u001b[0m\u001b[0m_fetch_type\u001b[0m \u001b[0;34m=\u001b[0m \u001b[0mtype\u001b[0m\u001b[0;34m(\u001b[0m\u001b[0mfetches\u001b[0m\u001b[0;34m)\u001b[0m\u001b[0;34m\u001b[0m\u001b[0;34m\u001b[0m\u001b[0m\n\u001b[0;32m--> 380\u001b[0;31m     \u001b[0mself\u001b[0m\u001b[0;34m.\u001b[0m\u001b[0m_mappers\u001b[0m \u001b[0;34m=\u001b[0m \u001b[0;34m[\u001b[0m\u001b[0m_FetchMapper\u001b[0m\u001b[0;34m.\u001b[0m\u001b[0mfor_fetch\u001b[0m\u001b[0;34m(\u001b[0m\u001b[0mfetch\u001b[0m\u001b[0;34m)\u001b[0m \u001b[0;32mfor\u001b[0m \u001b[0mfetch\u001b[0m \u001b[0;32min\u001b[0m \u001b[0mfetches\u001b[0m\u001b[0;34m]\u001b[0m\u001b[0;34m\u001b[0m\u001b[0;34m\u001b[0m\u001b[0m\n\u001b[0m\u001b[1;32m    381\u001b[0m     \u001b[0mself\u001b[0m\u001b[0;34m.\u001b[0m\u001b[0m_unique_fetches\u001b[0m\u001b[0;34m,\u001b[0m \u001b[0mself\u001b[0m\u001b[0;34m.\u001b[0m\u001b[0m_value_indices\u001b[0m \u001b[0;34m=\u001b[0m \u001b[0m_uniquify_fetches\u001b[0m\u001b[0;34m(\u001b[0m\u001b[0mself\u001b[0m\u001b[0;34m.\u001b[0m\u001b[0m_mappers\u001b[0m\u001b[0;34m)\u001b[0m\u001b[0;34m\u001b[0m\u001b[0;34m\u001b[0m\u001b[0m\n\u001b[1;32m    382\u001b[0m \u001b[0;34m\u001b[0m\u001b[0m\n",
      "\u001b[0;32m~/.local/lib/python3.8/site-packages/tensorflow/python/client/session.py\u001b[0m in \u001b[0;36m<listcomp>\u001b[0;34m(.0)\u001b[0m\n\u001b[1;32m    378\u001b[0m     \u001b[0;32melse\u001b[0m\u001b[0;34m:\u001b[0m\u001b[0;34m\u001b[0m\u001b[0;34m\u001b[0m\u001b[0m\n\u001b[1;32m    379\u001b[0m       \u001b[0mself\u001b[0m\u001b[0;34m.\u001b[0m\u001b[0m_fetch_type\u001b[0m \u001b[0;34m=\u001b[0m \u001b[0mtype\u001b[0m\u001b[0;34m(\u001b[0m\u001b[0mfetches\u001b[0m\u001b[0;34m)\u001b[0m\u001b[0;34m\u001b[0m\u001b[0;34m\u001b[0m\u001b[0m\n\u001b[0;32m--> 380\u001b[0;31m     \u001b[0mself\u001b[0m\u001b[0;34m.\u001b[0m\u001b[0m_mappers\u001b[0m \u001b[0;34m=\u001b[0m \u001b[0;34m[\u001b[0m\u001b[0m_FetchMapper\u001b[0m\u001b[0;34m.\u001b[0m\u001b[0mfor_fetch\u001b[0m\u001b[0;34m(\u001b[0m\u001b[0mfetch\u001b[0m\u001b[0;34m)\u001b[0m \u001b[0;32mfor\u001b[0m \u001b[0mfetch\u001b[0m \u001b[0;32min\u001b[0m \u001b[0mfetches\u001b[0m\u001b[0;34m]\u001b[0m\u001b[0;34m\u001b[0m\u001b[0;34m\u001b[0m\u001b[0m\n\u001b[0m\u001b[1;32m    381\u001b[0m     \u001b[0mself\u001b[0m\u001b[0;34m.\u001b[0m\u001b[0m_unique_fetches\u001b[0m\u001b[0;34m,\u001b[0m \u001b[0mself\u001b[0m\u001b[0;34m.\u001b[0m\u001b[0m_value_indices\u001b[0m \u001b[0;34m=\u001b[0m \u001b[0m_uniquify_fetches\u001b[0m\u001b[0;34m(\u001b[0m\u001b[0mself\u001b[0m\u001b[0;34m.\u001b[0m\u001b[0m_mappers\u001b[0m\u001b[0;34m)\u001b[0m\u001b[0;34m\u001b[0m\u001b[0;34m\u001b[0m\u001b[0m\n\u001b[1;32m    382\u001b[0m \u001b[0;34m\u001b[0m\u001b[0m\n",
      "\u001b[0;32m~/.local/lib/python3.8/site-packages/tensorflow/python/client/session.py\u001b[0m in \u001b[0;36mfor_fetch\u001b[0;34m(fetch)\u001b[0m\n\u001b[1;32m    276\u001b[0m         \u001b[0;32mif\u001b[0m \u001b[0misinstance\u001b[0m\u001b[0;34m(\u001b[0m\u001b[0mfetch\u001b[0m\u001b[0;34m,\u001b[0m \u001b[0mtensor_type\u001b[0m\u001b[0;34m)\u001b[0m\u001b[0;34m:\u001b[0m\u001b[0;34m\u001b[0m\u001b[0;34m\u001b[0m\u001b[0m\n\u001b[1;32m    277\u001b[0m           \u001b[0mfetches\u001b[0m\u001b[0;34m,\u001b[0m \u001b[0mcontraction_fn\u001b[0m \u001b[0;34m=\u001b[0m \u001b[0mfetch_fn\u001b[0m\u001b[0;34m(\u001b[0m\u001b[0mfetch\u001b[0m\u001b[0;34m)\u001b[0m\u001b[0;34m\u001b[0m\u001b[0;34m\u001b[0m\u001b[0m\n\u001b[0;32m--> 278\u001b[0;31m           \u001b[0;32mreturn\u001b[0m \u001b[0m_ElementFetchMapper\u001b[0m\u001b[0;34m(\u001b[0m\u001b[0mfetches\u001b[0m\u001b[0;34m,\u001b[0m \u001b[0mcontraction_fn\u001b[0m\u001b[0;34m)\u001b[0m\u001b[0;34m\u001b[0m\u001b[0;34m\u001b[0m\u001b[0m\n\u001b[0m\u001b[1;32m    279\u001b[0m     \u001b[0;31m# Did not find anything.\u001b[0m\u001b[0;34m\u001b[0m\u001b[0;34m\u001b[0m\u001b[0;34m\u001b[0m\u001b[0m\n\u001b[1;32m    280\u001b[0m     raise TypeError('Fetch argument %r has invalid type %r' %\n",
      "\u001b[0;32m~/.local/lib/python3.8/site-packages/tensorflow/python/client/session.py\u001b[0m in \u001b[0;36m__init__\u001b[0;34m(self, fetches, contraction_fn)\u001b[0m\n\u001b[1;32m    307\u001b[0m             fetch, allow_tensor=True, allow_operation=True))\n\u001b[1;32m    308\u001b[0m       \u001b[0;32mexcept\u001b[0m \u001b[0mTypeError\u001b[0m \u001b[0;32mas\u001b[0m \u001b[0me\u001b[0m\u001b[0;34m:\u001b[0m\u001b[0;34m\u001b[0m\u001b[0;34m\u001b[0m\u001b[0m\n\u001b[0;32m--> 309\u001b[0;31m         raise TypeError('Fetch argument %r has invalid type %r, '\n\u001b[0m\u001b[1;32m    310\u001b[0m                         \u001b[0;34m'must be a string or Tensor. (%s)'\u001b[0m \u001b[0;34m%\u001b[0m\u001b[0;34m\u001b[0m\u001b[0;34m\u001b[0m\u001b[0m\n\u001b[1;32m    311\u001b[0m                         (fetch, type(fetch), str(e)))\n",
      "\u001b[0;31mTypeError\u001b[0m: Fetch argument <tf.Variable 'UnreadVariable' shape=(2, 1) dtype=float32> has invalid type <class 'tensorflow.python.ops.resource_variable_ops._UnreadVariable'>, must be a string or Tensor. (Can not convert a _UnreadVariable into a Tensor or Operation.)"
     ]
    }
   ],
   "source": [
    "x0 = [[0],[0]]\n",
    "P0 = [[0, 0], [0, 0]]\n",
    "dt = 0.1\n",
    "sigma_a = 0.05\n",
    "sigma_z = 0.1\n",
    "\n",
    "#tf.reset_default_graph()\n",
    "\n",
    "with tf.compat.v1.variable_scope('constants'):\n",
    "    F = tf.constant([[1, dt],[0, 1]], dtype=tf.float32)\n",
    "    G = tf.constant([[dt**2/2], [dt]], dtype=tf.float32)\n",
    "    Q = tf.matmul(G, G, transpose_b=True) * sigma_a**2\n",
    "    H = tf.constant([[1,0]], dtype=tf.float32)\n",
    "    R = tf.constant(sigma_z**2, dtype=tf.float32)\n",
    "\n",
    "with tf.compat.v1.variable_scope('model'):\n",
    "    with tf.compat.v1.variable_scope('state'):\n",
    "        x = tf.Variable(x0, dtype=tf.float32)\n",
    "    \n",
    "    with tf.compat.v1.variable_scope('noise'):\n",
    "        w = G*tf.compat.v1.random_normal([1], mean=0, stddev=sigma_a)\n",
    "        \n",
    "    with tf.compat.v1.variable_scope('update_model'):\n",
    "        update_model = x.assign(tf.matmul(F,x) + w)\n",
    "    \n",
    "with tf.compat.v1.variable_scope('observation'):\n",
    "    v = tf.compat.v1.random_normal([1], mean=0, stddev=sigma_z)\n",
    "    z = tf.matmul(H,x) + v\n",
    "\n",
    "with tf.compat.v1.variable_scope('kalman_filter'):\n",
    "    with tf.compat.v1.variable_scope('model_estimate'):\n",
    "        xhat = tf.Variable(x0, dtype=tf.float32)\n",
    "        P = tf.Variable(P0, dtype=tf.float32)\n",
    "\n",
    "    with tf.compat.v1.variable_scope('predict'):\n",
    "        predict_xhat = xhat.assign(tf.matmul(F,xhat))\n",
    "        predict_P = P.assign(tf.matmul(F,tf.matmul(P,F, transpose_b=True)) + Q)\n",
    "        \n",
    "    with tf.compat.v1.variable_scope('update_estimation'):\n",
    "        y1 = z - tf.matmul(H,xhat)\n",
    "        S = R + tf.matmul(H,tf.matmul(P,H, transpose_b=True))\n",
    "        K = tf.matmul(tf.matmul(P,H, transpose_b=True) , tf.linalg.inv(S))\n",
    "        update_xhat = tf.compat.v1.assign_add(xhat, tf.matmul(K,y1))\n",
    "        delta_P = tf.matmul(K,tf.matmul(H,P))\n",
    "        update_P = tf.compat.v1.assign_sub(P, delta_P)\n",
    "        y2 = z - tf.matmul(H,xhat)\n",
    "    \n",
    "with tf.compat.v1.Session() as sess:    \n",
    "    sess.run(tf.compat.v1.global_variables_initializer())\n",
    "    #summary_writer = tf.summary.FileWriter('logdir/', sess.graph)\n",
    "    \n",
    "    N = 200\n",
    "\n",
    "    t = [i*dt for i in range(N)]\n",
    "    model = np.array([x0]*N, dtype=np.float32)\n",
    "    estimate1 = np.array([x0]*N, dtype=np.float32)\n",
    "    error1 = np.array([P0]*N, dtype=np.float32)\n",
    "    estimate2 = np.array([x0]*N, dtype=np.float32)\n",
    "    error2 = np.array([P0]*N, dtype=np.float32)\n",
    "    observations = np.array([0]*N, dtype=np.float32)\n",
    "    for i in range(1,N):\n",
    "        model[i], estimate1[i] , error1[i], estimate2[i], error2[i], observations[i] = sess.run([update_model, predict_xhat, predict_P, update_xhat, update_P, z])\n",
    "\n",
    "#plot\n",
    "\n",
    "plt.figure(num=None, figsize=(14, 6))\n",
    "\n",
    "plt.subplot(1, 2, 1)\n",
    "\n",
    "plt.fill_between(t,estimate2[:,0,0]+np.sqrt(error2[:,0,0]),estimate2[:,0,0]-np.sqrt(error2[:,0,0]), color = [0.5,0.75,0.75,.5])\n",
    "plt.plot(t, model[:,0,0],  color='k', linewidth=2.0)\n",
    "plt.plot(t, observations, color='r', marker='.', linestyle='None')\n",
    "\n",
    "plt.ylabel('Position', fontsize=18)\n",
    "plt.xlabel('Time', fontsize=18)\n",
    "\n",
    "plt.subplot(1, 2, 2)\n",
    "plt.fill_between(t,estimate2[:,1,0]+np.sqrt(error2[:,1,1]),estimate2[:,1,0]-np.sqrt(error2[:,1,1]), color = [0.5,0.75,0.75,.5])\n",
    "plt.plot(t, model[:,1,0],  color='k', linewidth=2.0)\n",
    "\n",
    "plt.ylabel('Velocity', fontsize=18)\n",
    "plt.xlabel('Time', fontsize=18)\n",
    "\n",
    "plt.savefig('simple.png')"
   ]
  },
  {
   "cell_type": "code",
   "execution_count": null,
   "id": "904119ad",
   "metadata": {},
   "outputs": [],
   "source": []
  },
  {
   "cell_type": "code",
   "execution_count": 26,
   "id": "5ec5c441",
   "metadata": {},
   "outputs": [],
   "source": [
    "class KalmanFilter(object):\n",
    "    def __init__(self, F = None, B = None, H = None, Q = None, R = None, P = None, x0 = None):\n",
    "\n",
    "        if(F is None or H is None):\n",
    "            raise ValueError(\"Set proper system dynamics.\")\n",
    "\n",
    "        self.n = F.shape[1]\n",
    "        self.m = H.shape[1]\n",
    "\n",
    "        self.F = F\n",
    "        self.H = H\n",
    "        self.B = 0 if B is None else B\n",
    "        self.Q = np.eye(self.n) if Q is None else Q\n",
    "        self.R = np.eye(self.n) if R is None else R\n",
    "        self.P = np.eye(self.n) if P is None else P\n",
    "        self.x = np.zeros((self.n, 1)) if x0 is None else x0\n",
    "\n",
    "    def predict(self, u = 0):\n",
    "        self.x = np.dot(self.F, self.x) + np.dot(self.B, u)\n",
    "        self.P = np.dot(np.dot(self.F, self.P), self.F.T) + self.Q\n",
    "        return self.x\n",
    "\n",
    "    def update(self, z):\n",
    "        y = z - np.dot(self.H, self.x)\n",
    "        S = self.R + np.dot(self.H, np.dot(self.P, self.H.T))\n",
    "        K = np.dot(np.dot(self.P, self.H.T), np.linalg.inv(S))\n",
    "        self.x = self.x + np.dot(K, y)\n",
    "        I = np.eye(self.n)\n",
    "        self.P = np.dot(np.dot(I - np.dot(K, self.H), self.P), \n",
    "            (I - np.dot(K, self.H)).T) + np.dot(np.dot(K, self.R), K.T)"
   ]
  },
  {
   "cell_type": "code",
   "execution_count": null,
   "id": "3761b7eb",
   "metadata": {},
   "outputs": [],
   "source": []
  },
  {
   "cell_type": "code",
   "execution_count": 32,
   "id": "474e079b",
   "metadata": {
    "scrolled": true
   },
   "outputs": [
    {
     "data": {
      "image/png": "[encoded data removed]",
      "text/plain": [
       "<Figure size 432x288 with 1 Axes>"
      ]
     },
     "metadata": {
      "needs_background": "light"
     },
     "output_type": "display_data"
    }
   ],
   "source": [
    "#def example():\n",
    "dt = 1.0/60\n",
    "F = np.array([[1, dt, 0], [0, 1, dt], [0, 0, 1]])\n",
    "H = np.array([1, 0, 0]).reshape(1, 3)\n",
    "Q = np.array([[0.05, 0.05, 0.0], [0.05, 0.05, 0.0], [0.0, 0.0, 0.0]])\n",
    "R = np.array([0.5]).reshape(1, 1)\n",
    "\n",
    "x = np.linspace(-10, 10, 100)\n",
    "measurements = - (x**2 + 2*x - 2)  + np.random.normal(0, 2, 100)\n",
    "\n",
    "kf = KalmanFilter(F = F, H = H, Q = Q, R = R)\n",
    "predictions = []\n",
    "\n",
    "for z in measurements:\n",
    "    predictions.append(np.dot(H,  kf.predict())[0])\n",
    "    kf.update(z)\n",
    "\n",
    "import matplotlib.pyplot as plt\n",
    "plt.plot(range(len(measurements)), measurements, label = 'Measurements')\n",
    "plt.plot(range(len(predictions)), np.array(predictions), label = 'Kalman Filter Prediction')\n",
    "plt.legend()\n",
    "plt.show()\n",
    "\n",
    "#if __name__ == '__main__':\n",
    "    #example()"
   ]
  },
  {
   "cell_type": "code",
   "execution_count": 29,
   "id": "d98a3396",
   "metadata": {
    "scrolled": false
   },
   "outputs": [
    {
     "data": {
      "text/plain": [
       "array([-7.37030949e+01, -7.47037469e+01, -7.03987620e+01, -6.71241331e+01,\n",
       "       -5.94010880e+01, -6.05346992e+01, -5.66355996e+01, -5.96432004e+01,\n",
       "       -5.04967745e+01, -5.04123670e+01, -4.63624507e+01, -4.14262172e+01,\n",
       "       -3.88260244e+01, -3.64561149e+01, -3.77192533e+01, -3.26649765e+01,\n",
       "       -3.29525751e+01, -2.66661283e+01, -2.56411667e+01, -2.46691128e+01,\n",
       "       -2.23892989e+01, -1.94697617e+01, -1.80897838e+01, -1.72732216e+01,\n",
       "       -1.42964544e+01, -1.66955869e+01, -1.40849917e+01, -8.80026098e+00,\n",
       "       -7.66434983e+00, -3.64454039e+00, -3.98041854e+00, -6.90231695e+00,\n",
       "       -5.27268919e+00, -7.67593168e-02, -4.34467958e+00,  1.21068713e+00,\n",
       "        1.54503373e+00,  1.73107706e+00,  2.44652839e+00,  1.09035419e+00,\n",
       "        5.98194353e+00,  3.85585172e+00,  3.07622913e+00,  1.97156223e-01,\n",
       "        4.93013282e+00,  2.74933336e+00,  3.26220127e+00,  2.93503061e+00,\n",
       "        4.52533873e+00,  3.47662507e+00,  2.74919725e+00,  1.75638038e+00,\n",
       "       -4.24450995e-01,  4.83497337e+00,  2.77120089e+00, -2.82682808e-01,\n",
       "       -1.75954248e+00, -5.11856680e+00, -4.25804475e+00, -1.03464425e+01,\n",
       "       -1.69855486e+00, -6.21802164e+00, -9.46511515e+00, -1.45605762e+01,\n",
       "       -1.20329580e+01, -1.53963458e+01, -1.38446395e+01, -1.74725931e+01,\n",
       "       -1.69114983e+01, -2.31831249e+01, -2.25797665e+01, -2.57207629e+01,\n",
       "       -2.78580799e+01, -3.09455938e+01, -3.41722127e+01, -3.21475001e+01,\n",
       "       -3.77184814e+01, -4.17109848e+01, -3.70293949e+01, -4.67722764e+01,\n",
       "       -4.62822241e+01, -5.21820098e+01, -5.70895535e+01, -5.46762237e+01,\n",
       "       -5.92408231e+01, -6.14092092e+01, -6.60108453e+01, -7.05241195e+01,\n",
       "       -7.40359834e+01, -8.05326505e+01, -7.96855617e+01, -8.60500580e+01,\n",
       "       -8.93587704e+01, -9.46379383e+01, -1.00224082e+02, -1.00846089e+02,\n",
       "       -1.05612540e+02, -1.07271490e+02, -1.14135321e+02, -1.18535338e+02])"
      ]
     },
     "execution_count": 29,
     "metadata": {},
     "output_type": "execute_result"
    }
   ],
   "source": [
    "measurements"
   ]
  },
  {
   "cell_type": "code",
   "execution_count": 28,
   "id": "93796534",
   "metadata": {},
   "outputs": [
    {
     "data": {
      "text/plain": [
       "(100,)"
      ]
     },
     "execution_count": 28,
     "metadata": {},
     "output_type": "execute_result"
    }
   ],
   "source": [
    "measurements.T.shape"
   ]
  },
  {
   "cell_type": "code",
   "execution_count": null,
   "id": "58cbf805",
   "metadata": {},
   "outputs": [],
   "source": []
  },
  {
   "cell_type": "code",
   "execution_count": null,
   "id": "827b37fb",
   "metadata": {},
   "outputs": [],
   "source": []
  }
 ],
 "metadata": {
  "kernelspec": {
   "display_name": "Python 3",
   "language": "python",
   "name": "python3"
  },
  "language_info": {
   "codemirror_mode": {
    "name": "ipython",
    "version": 3
   },
   "file_extension": ".py",
   "mimetype": "text/x-python",
   "name": "python",
   "nbconvert_exporter": "python",
   "pygments_lexer": "ipython3",
   "version": "3.8.10"
  }
 },
 "nbformat": 4,
 "nbformat_minor": 5
}

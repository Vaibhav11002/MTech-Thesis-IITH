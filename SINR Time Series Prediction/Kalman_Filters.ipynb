{
 "cells": [
  {
   "cell_type": "code",
   "execution_count": 2,
   "id": "c41a8ca1",
   "metadata": {},
   "outputs": [],
   "source": [
    "import numpy as np\n",
    "import matplotlib.pyplot as plt\n",
    "import math\n",
    "import random\n",
    "\n",
    "import numpy as np\n",
    "import matplotlib.pyplot as plt\n",
    "import pandas as pd\n",
    "import tensorflow as tf\n",
    "from sklearn.preprocessing import MinMaxScaler\n",
    "from matplotlib.pyplot import figure \n",
    "\n",
    "keras = tf.keras\n",
    "\n",
    "from sklearn.metrics import mean_squared_error, mean_absolute_error"
   ]
  },
  {
   "cell_type": "code",
   "execution_count": 7,
   "id": "63eaf7bc",
   "metadata": {
    "scrolled": false
   },
   "outputs": [
    {
     "data": {
      "text/plain": [
       "\"x0 = [[0],[0]]\\nP0 = [[0, 0], [0, 0]]\\ndt = 0.1\\nsigma_a = 0.05\\nsigma_z = 0.1\\n\\n#tf.reset_default_graph()\\n\\nwith tf.compat.v1.variable_scope('constants'):\\n    F = tf.constant([[1, dt],[0, 1]], dtype=tf.float32)\\n    G = tf.constant([[dt**2/2], [dt]], dtype=tf.float32)\\n    Q = tf.matmul(G, G, transpose_b=True) * sigma_a**2\\n    H = tf.constant([[1,0]], dtype=tf.float32)\\n    R = tf.constant(sigma_z**2, dtype=tf.float32)\\n\\nwith tf.compat.v1.variable_scope('model'):\\n    with tf.compat.v1.variable_scope('state'):\\n        x = tf.Variable(x0, dtype=tf.float32)\\n    \\n    with tf.compat.v1.variable_scope('noise'):\\n        w = G*tf.compat.v1.random_normal([1], mean=0, stddev=sigma_a)\\n        \\n    with tf.compat.v1.variable_scope('update_model'):\\n        update_model = x.assign(tf.matmul(F,x) + w)\\n    \\nwith tf.compat.v1.variable_scope('observation'):\\n    v = tf.compat.v1.random_normal([1], mean=0, stddev=sigma_z)\\n    z = tf.matmul(H,x) + v\\n\\nwith tf.compat.v1.variable_scope('kalman_filter'):\\n    with tf.compat.v1.variable_scope('model_estimate'):\\n        xhat = tf.Variable(x0, dtype=tf.float32)\\n        P = tf.Variable(P0, dtype=tf.float32)\\n\\n    with tf.compat.v1.variable_scope('predict'):\\n        predict_xhat = xhat.assign(tf.matmul(F,xhat))\\n        predict_P = P.assign(tf.matmul(F,tf.matmul(P,F, transpose_b=True)) + Q)\\n        \\n    with tf.compat.v1.variable_scope('update_estimation'):\\n        y1 = z - tf.matmul(H,xhat)\\n        S = R + tf.matmul(H,tf.matmul(P,H, transpose_b=True))\\n        K = tf.matmul(tf.matmul(P,H, transpose_b=True) , tf.linalg.inv(S))\\n        update_xhat = tf.compat.v1.assign_add(xhat, tf.matmul(K,y1))\\n        delta_P = tf.matmul(K,tf.matmul(H,P))\\n        update_P = tf.compat.v1.assign_sub(P, delta_P)\\n        y2 = z - tf.matmul(H,xhat)\\n    \\nwith tf.compat.v1.Session() as sess:    \\n    sess.run(tf.compat.v1.global_variables_initializer())\\n    #summary_writer = tf.summary.FileWriter('logdir/', sess.graph)\\n    \\n    N = 200\\n\\n    t = [i*dt for i in range(N)]\\n    model = np.array([x0]*N, dtype=np.float32)\\n    estimate1 = np.array([x0]*N, dtype=np.float32)\\n    error1 = np.array([P0]*N, dtype=np.float32)\\n    estimate2 = np.array([x0]*N, dtype=np.float32)\\n    error2 = np.array([P0]*N, dtype=np.float32)\\n    observations = np.array([0]*N, dtype=np.float32)\\n    for i in range(1,N):\\n        model[i], estimate1[i] , error1[i], estimate2[i], error2[i], observations[i] = sess.run([update_model, predict_xhat, predict_P, update_xhat, update_P, z])\\n\\n#plot\\n\\nplt.figure(num=None, figsize=(14, 6))\\n\\nplt.subplot(1, 2, 1)\\n\\nplt.fill_between(t,estimate2[:,0,0]+np.sqrt(error2[:,0,0]),estimate2[:,0,0]-np.sqrt(error2[:,0,0]), color = [0.5,0.75,0.75,.5])\\nplt.plot(t, model[:,0,0],  color='k', linewidth=2.0)\\nplt.plot(t, observations, color='r', marker='.', linestyle='None')\\n\\nplt.ylabel('Position', fontsize=18)\\nplt.xlabel('Time', fontsize=18)\\n\\nplt.subplot(1, 2, 2)\\nplt.fill_between(t,estimate2[:,1,0]+np.sqrt(error2[:,1,1]),estimate2[:,1,0]-np.sqrt(error2[:,1,1]), color = [0.5,0.75,0.75,.5])\\nplt.plot(t, model[:,1,0],  color='k', linewidth=2.0)\\n\\nplt.ylabel('Velocity', fontsize=18)\\nplt.xlabel('Time', fontsize=18)\\n\\nplt.savefig('simple.png') \""
      ]
     },
     "execution_count": 7,
     "metadata": {},
     "output_type": "execute_result"
    }
   ],
   "source": [
    "'''x0 = [[0],[0]]\n",
    "P0 = [[0, 0], [0, 0]]\n",
    "dt = 0.1\n",
    "sigma_a = 0.05\n",
    "sigma_z = 0.1\n",
    "\n",
    "#tf.reset_default_graph()\n",
    "\n",
    "with tf.compat.v1.variable_scope('constants'):\n",
    "    F = tf.constant([[1, dt],[0, 1]], dtype=tf.float32)\n",
    "    G = tf.constant([[dt**2/2], [dt]], dtype=tf.float32)\n",
    "    Q = tf.matmul(G, G, transpose_b=True) * sigma_a**2\n",
    "    H = tf.constant([[1,0]], dtype=tf.float32)\n",
    "    R = tf.constant(sigma_z**2, dtype=tf.float32)\n",
    "\n",
    "with tf.compat.v1.variable_scope('model'):\n",
    "    with tf.compat.v1.variable_scope('state'):\n",
    "        x = tf.Variable(x0, dtype=tf.float32)\n",
    "    \n",
    "    with tf.compat.v1.variable_scope('noise'):\n",
    "        w = G*tf.compat.v1.random_normal([1], mean=0, stddev=sigma_a)\n",
    "        \n",
    "    with tf.compat.v1.variable_scope('update_model'):\n",
    "        update_model = x.assign(tf.matmul(F,x) + w)\n",
    "    \n",
    "with tf.compat.v1.variable_scope('observation'):\n",
    "    v = tf.compat.v1.random_normal([1], mean=0, stddev=sigma_z)\n",
    "    z = tf.matmul(H,x) + v\n",
    "\n",
    "with tf.compat.v1.variable_scope('kalman_filter'):\n",
    "    with tf.compat.v1.variable_scope('model_estimate'):\n",
    "        xhat = tf.Variable(x0, dtype=tf.float32)\n",
    "        P = tf.Variable(P0, dtype=tf.float32)\n",
    "\n",
    "    with tf.compat.v1.variable_scope('predict'):\n",
    "        predict_xhat = xhat.assign(tf.matmul(F,xhat))\n",
    "        predict_P = P.assign(tf.matmul(F,tf.matmul(P,F, transpose_b=True)) + Q)\n",
    "        \n",
    "    with tf.compat.v1.variable_scope('update_estimation'):\n",
    "        y1 = z - tf.matmul(H,xhat)\n",
    "        S = R + tf.matmul(H,tf.matmul(P,H, transpose_b=True))\n",
    "        K = tf.matmul(tf.matmul(P,H, transpose_b=True) , tf.linalg.inv(S))\n",
    "        update_xhat = tf.compat.v1.assign_add(xhat, tf.matmul(K,y1))\n",
    "        delta_P = tf.matmul(K,tf.matmul(H,P))\n",
    "        update_P = tf.compat.v1.assign_sub(P, delta_P)\n",
    "        y2 = z - tf.matmul(H,xhat)\n",
    "    \n",
    "with tf.compat.v1.Session() as sess:    \n",
    "    sess.run(tf.compat.v1.global_variables_initializer())\n",
    "    #summary_writer = tf.summary.FileWriter('logdir/', sess.graph)\n",
    "    \n",
    "    N = 200\n",
    "\n",
    "    t = [i*dt for i in range(N)]\n",
    "    model = np.array([x0]*N, dtype=np.float32)\n",
    "    estimate1 = np.array([x0]*N, dtype=np.float32)\n",
    "    error1 = np.array([P0]*N, dtype=np.float32)\n",
    "    estimate2 = np.array([x0]*N, dtype=np.float32)\n",
    "    error2 = np.array([P0]*N, dtype=np.float32)\n",
    "    observations = np.array([0]*N, dtype=np.float32)\n",
    "    for i in range(1,N):\n",
    "        model[i], estimate1[i] , error1[i], estimate2[i], error2[i], observations[i] = sess.run([update_model, predict_xhat, predict_P, update_xhat, update_P, z])\n",
    "\n",
    "#plot\n",
    "\n",
    "plt.figure(num=None, figsize=(14, 6))\n",
    "\n",
    "plt.subplot(1, 2, 1)\n",
    "\n",
    "plt.fill_between(t,estimate2[:,0,0]+np.sqrt(error2[:,0,0]),estimate2[:,0,0]-np.sqrt(error2[:,0,0]), color = [0.5,0.75,0.75,.5])\n",
    "plt.plot(t, model[:,0,0],  color='k', linewidth=2.0)\n",
    "plt.plot(t, observations, color='r', marker='.', linestyle='None')\n",
    "\n",
    "plt.ylabel('Position', fontsize=18)\n",
    "plt.xlabel('Time', fontsize=18)\n",
    "\n",
    "plt.subplot(1, 2, 2)\n",
    "plt.fill_between(t,estimate2[:,1,0]+np.sqrt(error2[:,1,1]),estimate2[:,1,0]-np.sqrt(error2[:,1,1]), color = [0.5,0.75,0.75,.5])\n",
    "plt.plot(t, model[:,1,0],  color='k', linewidth=2.0)\n",
    "\n",
    "plt.ylabel('Velocity', fontsize=18)\n",
    "plt.xlabel('Time', fontsize=18)\n",
    "\n",
    "plt.savefig('simple.png') '''"
   ]
  },
  {
   "cell_type": "code",
   "execution_count": null,
   "id": "904119ad",
   "metadata": {},
   "outputs": [],
   "source": []
  },
  {
   "cell_type": "code",
   "execution_count": 8,
   "id": "5ec5c441",
   "metadata": {},
   "outputs": [],
   "source": [
    "class KalmanFilter(object):\n",
    "    def __init__(self, F = None, B = None, H = None, Q = None, R = None, P = None, x0 = None):\n",
    "\n",
    "        if(F is None or H is None):\n",
    "            raise ValueError(\"Set proper system dynamics.\")\n",
    "\n",
    "        self.n = F.shape[1]\n",
    "        self.m = H.shape[1]\n",
    "\n",
    "        self.F = F\n",
    "        self.H = H\n",
    "        self.B = 0 if B is None else B\n",
    "        self.Q = np.eye(self.n) if Q is None else Q\n",
    "        self.R = np.eye(self.n) if R is None else R\n",
    "        self.P = np.eye(self.n) if P is None else P\n",
    "        self.x = np.zeros((self.n, 1)) if x0 is None else x0\n",
    "\n",
    "    def predict(self, u = 0):\n",
    "        self.x = np.dot(self.F, self.x) + np.dot(self.B, u)\n",
    "        self.P = np.dot(np.dot(self.F, self.P), self.F.T) + self.Q\n",
    "        return self.x\n",
    "\n",
    "    def update(self, z):\n",
    "        y = z - np.dot(self.H, self.x)\n",
    "        S = self.R + np.dot(self.H, np.dot(self.P, self.H.T))\n",
    "        K = np.dot(np.dot(self.P, self.H.T), np.linalg.inv(S))\n",
    "        self.x = self.x + np.dot(K, y)\n",
    "        I = np.eye(self.n)\n",
    "        self.P = np.dot(np.dot(I - np.dot(K, self.H), self.P), \n",
    "            (I - np.dot(K, self.H)).T) + np.dot(np.dot(K, self.R), K.T)"
   ]
  },
  {
   "cell_type": "code",
   "execution_count": 9,
   "id": "474e079b",
   "metadata": {
    "scrolled": true
   },
   "outputs": [
    {
     "data": {
      "image/png": "[encoded data removed]",
      "text/plain": [
       "<Figure size 432x288 with 1 Axes>"
      ]
     },
     "metadata": {
      "needs_background": "light"
     },
     "output_type": "display_data"
    }
   ],
   "source": [
    "#def example():\n",
    "dt = 1.0/60\n",
    "F = np.array([[1, dt, 0], [0, 1, dt], [0, 0, 1]])\n",
    "H = np.array([1, 0, 0]).reshape(1, 3)\n",
    "Q = np.array([[0.05, 0.05, 0.0], [0.05, 0.05, 0.0], [0.0, 0.0, 0.0]])\n",
    "R = np.array([0.5]).reshape(1, 1)\n",
    "\n",
    "x = np.linspace(-10, 10, 100)\n",
    "measurements = - (x**2 + 2*x - 2)  + np.random.normal(0, 2, 100)\n",
    "\n",
    "kf = KalmanFilter(F = F, H = H, Q = Q, R = R)\n",
    "predictions = []\n",
    "\n",
    "for z in measurements:\n",
    "    predictions.append(np.dot(H,  kf.predict())[0])\n",
    "    kf.update(z)\n",
    "\n",
    "import matplotlib.pyplot as plt\n",
    "plt.plot(range(len(measurements)), measurements, label = 'Measurements')\n",
    "plt.plot(range(len(predictions)), np.array(predictions), label = 'Kalman Filter Prediction')\n",
    "plt.legend()\n",
    "plt.show()\n",
    "\n",
    "#if __name__ == '__main__':\n",
    "    #example()"
   ]
  },
  {
   "cell_type": "code",
   "execution_count": 10,
   "id": "58cbf805",
   "metadata": {},
   "outputs": [
    {
     "data": {
      "text/plain": [
       "array([-10.        ,  -9.7979798 ,  -9.5959596 ,  -9.39393939,\n",
       "        -9.19191919,  -8.98989899,  -8.78787879,  -8.58585859,\n",
       "        -8.38383838,  -8.18181818,  -7.97979798,  -7.77777778,\n",
       "        -7.57575758,  -7.37373737,  -7.17171717,  -6.96969697,\n",
       "        -6.76767677,  -6.56565657,  -6.36363636,  -6.16161616,\n",
       "        -5.95959596,  -5.75757576,  -5.55555556,  -5.35353535,\n",
       "        -5.15151515,  -4.94949495,  -4.74747475,  -4.54545455,\n",
       "        -4.34343434,  -4.14141414,  -3.93939394,  -3.73737374,\n",
       "        -3.53535354,  -3.33333333,  -3.13131313,  -2.92929293,\n",
       "        -2.72727273,  -2.52525253,  -2.32323232,  -2.12121212,\n",
       "        -1.91919192,  -1.71717172,  -1.51515152,  -1.31313131,\n",
       "        -1.11111111,  -0.90909091,  -0.70707071,  -0.50505051,\n",
       "        -0.3030303 ,  -0.1010101 ,   0.1010101 ,   0.3030303 ,\n",
       "         0.50505051,   0.70707071,   0.90909091,   1.11111111,\n",
       "         1.31313131,   1.51515152,   1.71717172,   1.91919192,\n",
       "         2.12121212,   2.32323232,   2.52525253,   2.72727273,\n",
       "         2.92929293,   3.13131313,   3.33333333,   3.53535354,\n",
       "         3.73737374,   3.93939394,   4.14141414,   4.34343434,\n",
       "         4.54545455,   4.74747475,   4.94949495,   5.15151515,\n",
       "         5.35353535,   5.55555556,   5.75757576,   5.95959596,\n",
       "         6.16161616,   6.36363636,   6.56565657,   6.76767677,\n",
       "         6.96969697,   7.17171717,   7.37373737,   7.57575758,\n",
       "         7.77777778,   7.97979798,   8.18181818,   8.38383838,\n",
       "         8.58585859,   8.78787879,   8.98989899,   9.19191919,\n",
       "         9.39393939,   9.5959596 ,   9.7979798 ,  10.        ])"
      ]
     },
     "execution_count": 10,
     "metadata": {},
     "output_type": "execute_result"
    }
   ],
   "source": [
    "x"
   ]
  },
  {
   "cell_type": "code",
   "execution_count": 6,
   "id": "827b37fb",
   "metadata": {},
   "outputs": [
    {
     "ename": "OSError",
     "evalue": "sinr_correl_shad8dB_10k.csv not found.",
     "output_type": "error",
     "traceback": [
      "\u001b[0;31m---------------------------------------------------------------------------\u001b[0m",
      "\u001b[0;31mOSError\u001b[0m                                   Traceback (most recent call last)",
      "\u001b[0;32m<ipython-input-6-4eeab3c4a6e3>\u001b[0m in \u001b[0;36m<module>\u001b[0;34m\u001b[0m\n\u001b[1;32m      1\u001b[0m \u001b[0;31m#series_21 = np.loadtxt('/content/user_2000.csv', delimiter=',')\u001b[0m\u001b[0;34m\u001b[0m\u001b[0;34m\u001b[0m\u001b[0;34m\u001b[0m\u001b[0m\n\u001b[1;32m      2\u001b[0m \u001b[0;31m#series_21 = np.loadtxt('user_sinr_shad_stdev4.csv', delimiter=',')\u001b[0m\u001b[0;34m\u001b[0m\u001b[0;34m\u001b[0m\u001b[0;34m\u001b[0m\u001b[0m\n\u001b[0;32m----> 3\u001b[0;31m \u001b[0mseries_21\u001b[0m \u001b[0;34m=\u001b[0m \u001b[0mnp\u001b[0m\u001b[0;34m.\u001b[0m\u001b[0mloadtxt\u001b[0m\u001b[0;34m(\u001b[0m\u001b[0;34m'sinr_correl_shad8dB_10k.csv'\u001b[0m\u001b[0;34m,\u001b[0m \u001b[0mdelimiter\u001b[0m\u001b[0;34m=\u001b[0m\u001b[0;34m','\u001b[0m\u001b[0;34m)\u001b[0m\u001b[0;34m\u001b[0m\u001b[0;34m\u001b[0m\u001b[0m\n\u001b[0m\u001b[1;32m      4\u001b[0m \u001b[0;31m#series_21 = sinr_all2[:TIME_INST,0:21, 2]\u001b[0m\u001b[0;34m\u001b[0m\u001b[0;34m\u001b[0m\u001b[0;34m\u001b[0m\u001b[0m\n\u001b[1;32m      5\u001b[0m \u001b[0mseries_csv\u001b[0m \u001b[0;34m=\u001b[0m \u001b[0mpd\u001b[0m\u001b[0;34m.\u001b[0m\u001b[0mread_csv\u001b[0m\u001b[0;34m(\u001b[0m\u001b[0;34m'sinr_correl_shad6dB_2k.csv'\u001b[0m\u001b[0;34m)\u001b[0m\u001b[0;34m\u001b[0m\u001b[0;34m\u001b[0m\u001b[0m\n",
      "\u001b[0;32m~/.local/lib/python3.8/site-packages/numpy/lib/npyio.py\u001b[0m in \u001b[0;36mloadtxt\u001b[0;34m(fname, dtype, comments, delimiter, converters, skiprows, usecols, unpack, ndmin, encoding, max_rows)\u001b[0m\n\u001b[1;32m    959\u001b[0m             \u001b[0mfname\u001b[0m \u001b[0;34m=\u001b[0m \u001b[0mos_fspath\u001b[0m\u001b[0;34m(\u001b[0m\u001b[0mfname\u001b[0m\u001b[0;34m)\u001b[0m\u001b[0;34m\u001b[0m\u001b[0;34m\u001b[0m\u001b[0m\n\u001b[1;32m    960\u001b[0m         \u001b[0;32mif\u001b[0m \u001b[0m_is_string_like\u001b[0m\u001b[0;34m(\u001b[0m\u001b[0mfname\u001b[0m\u001b[0;34m)\u001b[0m\u001b[0;34m:\u001b[0m\u001b[0;34m\u001b[0m\u001b[0;34m\u001b[0m\u001b[0m\n\u001b[0;32m--> 961\u001b[0;31m             \u001b[0mfh\u001b[0m \u001b[0;34m=\u001b[0m \u001b[0mnp\u001b[0m\u001b[0;34m.\u001b[0m\u001b[0mlib\u001b[0m\u001b[0;34m.\u001b[0m\u001b[0m_datasource\u001b[0m\u001b[0;34m.\u001b[0m\u001b[0mopen\u001b[0m\u001b[0;34m(\u001b[0m\u001b[0mfname\u001b[0m\u001b[0;34m,\u001b[0m \u001b[0;34m'rt'\u001b[0m\u001b[0;34m,\u001b[0m \u001b[0mencoding\u001b[0m\u001b[0;34m=\u001b[0m\u001b[0mencoding\u001b[0m\u001b[0;34m)\u001b[0m\u001b[0;34m\u001b[0m\u001b[0;34m\u001b[0m\u001b[0m\n\u001b[0m\u001b[1;32m    962\u001b[0m             \u001b[0mfencoding\u001b[0m \u001b[0;34m=\u001b[0m \u001b[0mgetattr\u001b[0m\u001b[0;34m(\u001b[0m\u001b[0mfh\u001b[0m\u001b[0;34m,\u001b[0m \u001b[0;34m'encoding'\u001b[0m\u001b[0;34m,\u001b[0m \u001b[0;34m'latin1'\u001b[0m\u001b[0;34m)\u001b[0m\u001b[0;34m\u001b[0m\u001b[0;34m\u001b[0m\u001b[0m\n\u001b[1;32m    963\u001b[0m             \u001b[0mfh\u001b[0m \u001b[0;34m=\u001b[0m \u001b[0miter\u001b[0m\u001b[0;34m(\u001b[0m\u001b[0mfh\u001b[0m\u001b[0;34m)\u001b[0m\u001b[0;34m\u001b[0m\u001b[0;34m\u001b[0m\u001b[0m\n",
      "\u001b[0;32m~/.local/lib/python3.8/site-packages/numpy/lib/_datasource.py\u001b[0m in \u001b[0;36mopen\u001b[0;34m(path, mode, destpath, encoding, newline)\u001b[0m\n\u001b[1;32m    193\u001b[0m \u001b[0;34m\u001b[0m\u001b[0m\n\u001b[1;32m    194\u001b[0m     \u001b[0mds\u001b[0m \u001b[0;34m=\u001b[0m \u001b[0mDataSource\u001b[0m\u001b[0;34m(\u001b[0m\u001b[0mdestpath\u001b[0m\u001b[0;34m)\u001b[0m\u001b[0;34m\u001b[0m\u001b[0;34m\u001b[0m\u001b[0m\n\u001b[0;32m--> 195\u001b[0;31m     \u001b[0;32mreturn\u001b[0m \u001b[0mds\u001b[0m\u001b[0;34m.\u001b[0m\u001b[0mopen\u001b[0m\u001b[0;34m(\u001b[0m\u001b[0mpath\u001b[0m\u001b[0;34m,\u001b[0m \u001b[0mmode\u001b[0m\u001b[0;34m,\u001b[0m \u001b[0mencoding\u001b[0m\u001b[0;34m=\u001b[0m\u001b[0mencoding\u001b[0m\u001b[0;34m,\u001b[0m \u001b[0mnewline\u001b[0m\u001b[0;34m=\u001b[0m\u001b[0mnewline\u001b[0m\u001b[0;34m)\u001b[0m\u001b[0;34m\u001b[0m\u001b[0;34m\u001b[0m\u001b[0m\n\u001b[0m\u001b[1;32m    196\u001b[0m \u001b[0;34m\u001b[0m\u001b[0m\n\u001b[1;32m    197\u001b[0m \u001b[0;34m\u001b[0m\u001b[0m\n",
      "\u001b[0;32m~/.local/lib/python3.8/site-packages/numpy/lib/_datasource.py\u001b[0m in \u001b[0;36mopen\u001b[0;34m(self, path, mode, encoding, newline)\u001b[0m\n\u001b[1;32m    533\u001b[0m                                       encoding=encoding, newline=newline)\n\u001b[1;32m    534\u001b[0m         \u001b[0;32melse\u001b[0m\u001b[0;34m:\u001b[0m\u001b[0;34m\u001b[0m\u001b[0;34m\u001b[0m\u001b[0m\n\u001b[0;32m--> 535\u001b[0;31m             \u001b[0;32mraise\u001b[0m \u001b[0mIOError\u001b[0m\u001b[0;34m(\u001b[0m\u001b[0;34m\"%s not found.\"\u001b[0m \u001b[0;34m%\u001b[0m \u001b[0mpath\u001b[0m\u001b[0;34m)\u001b[0m\u001b[0;34m\u001b[0m\u001b[0;34m\u001b[0m\u001b[0m\n\u001b[0m\u001b[1;32m    536\u001b[0m \u001b[0;34m\u001b[0m\u001b[0m\n\u001b[1;32m    537\u001b[0m \u001b[0;34m\u001b[0m\u001b[0m\n",
      "\u001b[0;31mOSError\u001b[0m: sinr_correl_shad8dB_10k.csv not found."
     ]
    }
   ],
   "source": [
    "#series_21 = np.loadtxt('/content/user_2000.csv', delimiter=',')\n",
    "#series_21 = np.loadtxt('user_sinr_shad_stdev4.csv', delimiter=',')\n",
    "series_21 = np.loadtxt('sinr_correl_shad8dB_10k.csv', delimiter=',')\n",
    "#series_21 = sinr_all2[:TIME_INST,0:21, 2]\n",
    "series_csv = pd.read_csv('sinr_correl_shad6dB_2k.csv')\n",
    "\n",
    "print(np.shape(series_21))\n",
    "time = np.arange(len(series_21))\n",
    "total_time_steps = len(series_21)\n",
    "\n",
    "print(np.shape(time))"
   ]
  },
  {
   "cell_type": "code",
   "execution_count": null,
   "id": "342932bf",
   "metadata": {},
   "outputs": [],
   "source": []
  }
 ],
 "metadata": {
  "kernelspec": {
   "display_name": "Python 3",
   "language": "python",
   "name": "python3"
  },
  "language_info": {
   "codemirror_mode": {
    "name": "ipython",
    "version": 3
   },
   "file_extension": ".py",
   "mimetype": "text/x-python",
   "name": "python",
   "nbconvert_exporter": "python",
   "pygments_lexer": "ipython3",
   "version": "3.8.10"
  }
 },
 "nbformat": 4,
 "nbformat_minor": 5
}
